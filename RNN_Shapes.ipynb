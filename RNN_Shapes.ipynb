{
  "nbformat": 4,
  "nbformat_minor": 0,
  "metadata": {
    "colab": {
      "name": "RNN Shapes.ipynb",
      "provenance": [],
      "collapsed_sections": [],
      "authorship_tag": "ABX9TyNBXW6u4sWMtqljPTLDmIUa",
      "include_colab_link": true
    },
    "kernelspec": {
      "name": "python3",
      "display_name": "Python 3"
    }
  },
  "cells": [
    {
      "cell_type": "markdown",
      "metadata": {
        "id": "view-in-github",
        "colab_type": "text"
      },
      "source": [
        "<a href=\"https://colab.research.google.com/github/jnprogrammer/MachineLearning/blob/master/RNN_Shapes.ipynb\" target=\"_parent\"><img src=\"https://colab.research.google.com/assets/colab-badge.svg\" alt=\"Open In Colab\"/></a>"
      ]
    },
    {
      "cell_type": "code",
      "metadata": {
        "id": "UYAy4CnUh_uD",
        "colab_type": "code",
        "colab": {
          "base_uri": "https://localhost:8080/",
          "height": 34
        },
        "outputId": "83539167-4708-4ec5-898a-5929f518954e"
      },
      "source": [
        "!pip install -q tensorflow-gpu==2.0.0-beta1\n",
        "import tensorflow as tf\n",
        "print(tf.__version__)"
      ],
      "execution_count": 2,
      "outputs": [
        {
          "output_type": "stream",
          "text": [
            "2.0.0-beta1\n"
          ],
          "name": "stdout"
        }
      ]
    },
    {
      "cell_type": "code",
      "metadata": {
        "id": "RuWVd11_iQYM",
        "colab_type": "code",
        "colab": {}
      },
      "source": [
        "from tensorflow.keras.layers import Input, SimpleRNN, Dense, Flatten\n",
        "from tensorflow.keras.models import Model\n",
        "from tensorflow.keras.optimizers import SGD, Adam\n",
        "\n",
        "import numpy as np\n",
        "import pandas as pd\n",
        "import matplotlib.pyplot as plt"
      ],
      "execution_count": 0,
      "outputs": []
    },
    {
      "cell_type": "code",
      "metadata": {
        "id": "UYXR55Xbw6Cq",
        "colab_type": "code",
        "colab": {}
      },
      "source": [
        "# Things you should automatically know and have memorized\n",
        "# N = number of samples\n",
        "# T = sequence length\n",
        "# D = number of input features\n",
        "# M = number of hidden units\n",
        "# K = numbers of output units"
      ],
      "execution_count": 0,
      "outputs": []
    },
    {
      "cell_type": "code",
      "metadata": {
        "id": "IxpqZw13w6yD",
        "colab_type": "code",
        "colab": {}
      },
      "source": [
        "# Make some data\n",
        "N = 34\n",
        "T = 10\n",
        "D = 3\n",
        "K = 2\n",
        "X = np.random.randn(N, T, D)"
      ],
      "execution_count": 0,
      "outputs": []
    },
    {
      "cell_type": "code",
      "metadata": {
        "id": "wb8fnsjO1ylr",
        "colab_type": "code",
        "colab": {}
      },
      "source": [
        "#making the RNN\n",
        "\n",
        "M = 5\n",
        "i = Input(shape=(T, D))\n",
        "x = SimpleRNN(M)(i)\n",
        "x = Dense(K)(x)\n",
        "\n",
        "model = Model(i,x) "
      ],
      "execution_count": 0,
      "outputs": []
    },
    {
      "cell_type": "code",
      "metadata": {
        "id": "r0T2B4gg22l5",
        "colab_type": "code",
        "colab": {
          "base_uri": "https://localhost:8080/",
          "height": 595
        },
        "outputId": "4c7bab57-4740-4d4d-da31-a2dd3c6e2c07"
      },
      "source": [
        "Yhat = model.predict(X)\n",
        "print(Yhat)"
      ],
      "execution_count": 19,
      "outputs": [
        {
          "output_type": "stream",
          "text": [
            "[[-0.2823568   0.88105714]\n",
            " [-0.20467706  0.17937033]\n",
            " [-0.09602202 -0.9275055 ]\n",
            " [-0.20606059 -0.40168217]\n",
            " [ 0.4003079  -1.1276546 ]\n",
            " [-0.01510127 -0.5831378 ]\n",
            " [-0.28864577  0.01005843]\n",
            " [-0.14373633  0.90085816]\n",
            " [-0.01960107 -0.4316502 ]\n",
            " [-0.49713245  0.09966299]\n",
            " [-0.16686511  0.90671647]\n",
            " [ 0.05030283 -0.56424063]\n",
            " [ 0.21161935  0.2422695 ]\n",
            " [-0.14329028  0.72745377]\n",
            " [-0.10607946 -1.2011887 ]\n",
            " [ 0.05521714 -0.8862661 ]\n",
            " [-0.3474716  -0.6443435 ]\n",
            " [ 0.5331424  -1.0253695 ]\n",
            " [-0.07815638 -1.2164677 ]\n",
            " [-0.25691175  0.86713624]\n",
            " [ 0.29187453  0.92236775]\n",
            " [-0.12405653 -0.70485705]\n",
            " [ 0.03705642 -0.91759694]\n",
            " [ 0.23150478  1.1172045 ]\n",
            " [-0.15216291 -0.46919197]\n",
            " [-0.40230253  1.2056044 ]\n",
            " [ 0.4983215   0.01343695]\n",
            " [-0.16326769  0.57290524]\n",
            " [ 0.02059999  0.28949946]\n",
            " [-0.03345911 -0.11673969]\n",
            " [ 0.09206696 -0.8269212 ]\n",
            " [ 0.17160723 -1.5701953 ]\n",
            " [ 0.0073523   0.12996048]\n",
            " [-0.3008979   0.38614437]]\n"
          ],
          "name": "stdout"
        }
      ]
    },
    {
      "cell_type": "code",
      "metadata": {
        "id": "Nh51h5RP28Y3",
        "colab_type": "code",
        "colab": {
          "base_uri": "https://localhost:8080/",
          "height": 255
        },
        "outputId": "b3673ece-7374-4366-eae2-ebcddce386d1"
      },
      "source": [
        "model.summary()"
      ],
      "execution_count": 20,
      "outputs": [
        {
          "output_type": "stream",
          "text": [
            "Model: \"model_1\"\n",
            "_________________________________________________________________\n",
            "Layer (type)                 Output Shape              Param #   \n",
            "=================================================================\n",
            "input_2 (InputLayer)         [(None, 10, 3)]           0         \n",
            "_________________________________________________________________\n",
            "simple_rnn_1 (SimpleRNN)     (None, 5)                 45        \n",
            "_________________________________________________________________\n",
            "dense_1 (Dense)              (None, 2)                 12        \n",
            "=================================================================\n",
            "Total params: 57\n",
            "Trainable params: 57\n",
            "Non-trainable params: 0\n",
            "_________________________________________________________________\n"
          ],
          "name": "stdout"
        }
      ]
    },
    {
      "cell_type": "code",
      "metadata": {
        "id": "1G6ngE4E3p6F",
        "colab_type": "code",
        "colab": {
          "base_uri": "https://localhost:8080/",
          "height": 224
        },
        "outputId": "3c3eb85c-5a45-40db-95a5-f9d575c32157"
      },
      "source": [
        "model.layers[1].get_weights()"
      ],
      "execution_count": 21,
      "outputs": [
        {
          "output_type": "execute_result",
          "data": {
            "text/plain": [
              "[array([[-0.7246701 ,  0.28572184,  0.02952844, -0.20004147,  0.50679713],\n",
              "        [-0.17708522, -0.04337656, -0.19148076, -0.6318525 , -0.42213014],\n",
              "        [-0.00498784, -0.20121223,  0.6661522 ,  0.69222933,  0.84271723]],\n",
              "       dtype=float32),\n",
              " array([[ 0.57098854, -0.42152894, -0.5356864 , -0.33018738,  0.31670478],\n",
              "        [ 0.0937905 ,  0.28891906, -0.08975235,  0.62407595,  0.7142847 ],\n",
              "        [ 0.33519432,  0.6845024 ,  0.27502796, -0.5522467 ,  0.19617441],\n",
              "        [ 0.40629148,  0.42339772, -0.45226407,  0.34050846, -0.5789411 ],\n",
              "        [-0.6226937 ,  0.30171144, -0.6517681 , -0.28387156,  0.12584937]],\n",
              "       dtype=float32),\n",
              " array([0., 0., 0., 0., 0.], dtype=float32)]"
            ]
          },
          "metadata": {
            "tags": []
          },
          "execution_count": 21
        }
      ]
    },
    {
      "cell_type": "code",
      "metadata": {
        "id": "yzyFmCZV314E",
        "colab_type": "code",
        "colab": {
          "base_uri": "https://localhost:8080/",
          "height": 34
        },
        "outputId": "02114c3b-eea1-45e1-bf31-d92fc8f5cdef"
      },
      "source": [
        "#Check their shapes\n",
        "#Should make sense\n",
        "#First output is input > hidden\n",
        "#Second output is hidden > hidden\n",
        "#Third output is bias term (vector of length M)\n",
        "\n",
        "a, b, c = model.layers[1].get_weights()\n",
        "print(a.shape, b.shape, c.shape)"
      ],
      "execution_count": 22,
      "outputs": [
        {
          "output_type": "stream",
          "text": [
            "(3, 5) (5, 5) (5,)\n"
          ],
          "name": "stdout"
        }
      ]
    },
    {
      "cell_type": "code",
      "metadata": {
        "id": "MbBNMjsj4yKY",
        "colab_type": "code",
        "colab": {}
      },
      "source": [
        "Wx, Wh, bh = model.layers[1].get_weights()\n",
        "Wo, bo = model.layers[2].get_weights()"
      ],
      "execution_count": 0,
      "outputs": []
    },
    {
      "cell_type": "code",
      "metadata": {
        "id": "o_kSXkZ45WXA",
        "colab_type": "code",
        "colab": {
          "base_uri": "https://localhost:8080/",
          "height": 34
        },
        "outputId": "8a32ecd8-428f-4836-80bb-9ab4b26a0c87"
      },
      "source": [
        "h_last = np.zeros(M) # initial hidden state\n",
        "x = X[0] # the one and only sample\n",
        "Yhats = [] # where we store the outputs\n",
        "\n",
        "for t in range(T):\n",
        "  h = np.tanh(x[t].dot(Wx) + h_last.dot(Wh) + bh)\n",
        "  y = h.dot(Wo) + bo #We only care about this value on the last iteration\n",
        "  Yhats.append(y)\n",
        "  # important: assign h to h_last\n",
        "  h_last = h\n",
        "\n",
        "  # print the final output\n",
        "\n",
        "print(Yhats[-1])\n"
      ],
      "execution_count": 24,
      "outputs": [
        {
          "output_type": "stream",
          "text": [
            "[-0.28235687  0.88105727]\n"
          ],
          "name": "stdout"
        }
      ]
    },
    {
      "cell_type": "code",
      "metadata": {
        "id": "y4sf3aQx8erK",
        "colab_type": "code",
        "colab": {}
      },
      "source": [
        "# Bonus exercise: calculate the output for the multiple samples at once (N > 1)"
      ],
      "execution_count": 0,
      "outputs": []
    }
  ]
}