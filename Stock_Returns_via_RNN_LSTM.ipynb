{
  "nbformat": 4,
  "nbformat_minor": 0,
  "metadata": {
    "colab": {
      "name": "Stock Returns via RNN LSTM.ipynb",
      "provenance": [],
      "collapsed_sections": [],
      "authorship_tag": "ABX9TyOSz7JNUyphoD+KiZkM7s13",
      "include_colab_link": true
    },
    "kernelspec": {
      "name": "python3",
      "display_name": "Python 3"
    }
  },
  "cells": [
    {
      "cell_type": "markdown",
      "metadata": {
        "id": "view-in-github",
        "colab_type": "text"
      },
      "source": [
        "<a href=\"https://colab.research.google.com/github/jnprogrammer/MachineLearning/blob/master/Stock_Returns_via_RNN_LSTM.ipynb\" target=\"_parent\"><img src=\"https://colab.research.google.com/assets/colab-badge.svg\" alt=\"Open In Colab\"/></a>"
      ]
    },
    {
      "cell_type": "code",
      "metadata": {
        "id": "oZovZW571nYm",
        "colab_type": "code",
        "colab": {
          "base_uri": "https://localhost:8080/",
          "height": 34
        },
        "outputId": "d6eebd14-c32c-4d52-f1f6-7cbf317acd5f"
      },
      "source": [
        "!pip install -q tensorflow-gpu==2.0.0-beta1\n",
        "import tensorflow as tf\n",
        "print(tf.__version__)"
      ],
      "execution_count": 2,
      "outputs": [
        {
          "output_type": "stream",
          "text": [
            "2.0.0-beta1\n"
          ],
          "name": "stdout"
        }
      ]
    },
    {
      "cell_type": "code",
      "metadata": {
        "id": "WkgXmQk315pf",
        "colab_type": "code",
        "colab": {}
      },
      "source": [
        "from tensorflow.keras.layers import Input, LSTM, GRU, SimpleRNN, Dense, GlobalMaxPool1D\n",
        "from tensorflow.keras.models import Model\n",
        "from tensorflow.keras.optimizers import SGD, Adam\n",
        "\n",
        "import numpy as np\n",
        "import pandas as pd\n",
        "import matplotlib.pyplot as plt\n",
        "from sklearn.preprocessing import StandardScaler\n"
      ],
      "execution_count": 0,
      "outputs": []
    },
    {
      "cell_type": "code",
      "metadata": {
        "id": "trrgMiva3bC5",
        "colab_type": "code",
        "colab": {}
      },
      "source": [
        "df = pd.read_csv('https://raw.githubusercontent.com/lazyprogrammer/machine_learning_examples/master/tf2.0/sbux.csv')"
      ],
      "execution_count": 0,
      "outputs": []
    },
    {
      "cell_type": "code",
      "metadata": {
        "id": "rplcna3z4Kie",
        "colab_type": "code",
        "colab": {
          "base_uri": "https://localhost:8080/",
          "height": 204
        },
        "outputId": "1d866955-4a88-47ab-f4cb-d13eeee5a208"
      },
      "source": [
        "df.head()"
      ],
      "execution_count": 5,
      "outputs": [
        {
          "output_type": "execute_result",
          "data": {
            "text/html": [
              "<div>\n",
              "<style scoped>\n",
              "    .dataframe tbody tr th:only-of-type {\n",
              "        vertical-align: middle;\n",
              "    }\n",
              "\n",
              "    .dataframe tbody tr th {\n",
              "        vertical-align: top;\n",
              "    }\n",
              "\n",
              "    .dataframe thead th {\n",
              "        text-align: right;\n",
              "    }\n",
              "</style>\n",
              "<table border=\"1\" class=\"dataframe\">\n",
              "  <thead>\n",
              "    <tr style=\"text-align: right;\">\n",
              "      <th></th>\n",
              "      <th>date</th>\n",
              "      <th>open</th>\n",
              "      <th>high</th>\n",
              "      <th>low</th>\n",
              "      <th>close</th>\n",
              "      <th>volume</th>\n",
              "      <th>Name</th>\n",
              "    </tr>\n",
              "  </thead>\n",
              "  <tbody>\n",
              "    <tr>\n",
              "      <th>0</th>\n",
              "      <td>2013-02-08</td>\n",
              "      <td>27.920</td>\n",
              "      <td>28.325</td>\n",
              "      <td>27.920</td>\n",
              "      <td>28.185</td>\n",
              "      <td>7146296</td>\n",
              "      <td>SBUX</td>\n",
              "    </tr>\n",
              "    <tr>\n",
              "      <th>1</th>\n",
              "      <td>2013-02-11</td>\n",
              "      <td>28.260</td>\n",
              "      <td>28.260</td>\n",
              "      <td>27.930</td>\n",
              "      <td>28.070</td>\n",
              "      <td>5457354</td>\n",
              "      <td>SBUX</td>\n",
              "    </tr>\n",
              "    <tr>\n",
              "      <th>2</th>\n",
              "      <td>2013-02-12</td>\n",
              "      <td>28.000</td>\n",
              "      <td>28.275</td>\n",
              "      <td>27.975</td>\n",
              "      <td>28.130</td>\n",
              "      <td>8665592</td>\n",
              "      <td>SBUX</td>\n",
              "    </tr>\n",
              "    <tr>\n",
              "      <th>3</th>\n",
              "      <td>2013-02-13</td>\n",
              "      <td>28.230</td>\n",
              "      <td>28.230</td>\n",
              "      <td>27.750</td>\n",
              "      <td>27.915</td>\n",
              "      <td>7022056</td>\n",
              "      <td>SBUX</td>\n",
              "    </tr>\n",
              "    <tr>\n",
              "      <th>4</th>\n",
              "      <td>2013-02-14</td>\n",
              "      <td>27.765</td>\n",
              "      <td>27.905</td>\n",
              "      <td>27.675</td>\n",
              "      <td>27.775</td>\n",
              "      <td>8899188</td>\n",
              "      <td>SBUX</td>\n",
              "    </tr>\n",
              "  </tbody>\n",
              "</table>\n",
              "</div>"
            ],
            "text/plain": [
              "         date    open    high     low   close   volume  Name\n",
              "0  2013-02-08  27.920  28.325  27.920  28.185  7146296  SBUX\n",
              "1  2013-02-11  28.260  28.260  27.930  28.070  5457354  SBUX\n",
              "2  2013-02-12  28.000  28.275  27.975  28.130  8665592  SBUX\n",
              "3  2013-02-13  28.230  28.230  27.750  27.915  7022056  SBUX\n",
              "4  2013-02-14  27.765  27.905  27.675  27.775  8899188  SBUX"
            ]
          },
          "metadata": {
            "tags": []
          },
          "execution_count": 5
        }
      ]
    },
    {
      "cell_type": "code",
      "metadata": {
        "id": "OrcbxSFx4OWg",
        "colab_type": "code",
        "colab": {
          "base_uri": "https://localhost:8080/",
          "height": 204
        },
        "outputId": "690348a0-8bed-4b75-f883-3417ded73b4e"
      },
      "source": [
        "df.tail()"
      ],
      "execution_count": 6,
      "outputs": [
        {
          "output_type": "execute_result",
          "data": {
            "text/html": [
              "<div>\n",
              "<style scoped>\n",
              "    .dataframe tbody tr th:only-of-type {\n",
              "        vertical-align: middle;\n",
              "    }\n",
              "\n",
              "    .dataframe tbody tr th {\n",
              "        vertical-align: top;\n",
              "    }\n",
              "\n",
              "    .dataframe thead th {\n",
              "        text-align: right;\n",
              "    }\n",
              "</style>\n",
              "<table border=\"1\" class=\"dataframe\">\n",
              "  <thead>\n",
              "    <tr style=\"text-align: right;\">\n",
              "      <th></th>\n",
              "      <th>date</th>\n",
              "      <th>open</th>\n",
              "      <th>high</th>\n",
              "      <th>low</th>\n",
              "      <th>close</th>\n",
              "      <th>volume</th>\n",
              "      <th>Name</th>\n",
              "    </tr>\n",
              "  </thead>\n",
              "  <tbody>\n",
              "    <tr>\n",
              "      <th>1254</th>\n",
              "      <td>2018-02-01</td>\n",
              "      <td>56.280</td>\n",
              "      <td>56.42</td>\n",
              "      <td>55.89</td>\n",
              "      <td>56.00</td>\n",
              "      <td>14690146</td>\n",
              "      <td>SBUX</td>\n",
              "    </tr>\n",
              "    <tr>\n",
              "      <th>1255</th>\n",
              "      <td>2018-02-02</td>\n",
              "      <td>55.900</td>\n",
              "      <td>56.32</td>\n",
              "      <td>55.70</td>\n",
              "      <td>55.77</td>\n",
              "      <td>15358909</td>\n",
              "      <td>SBUX</td>\n",
              "    </tr>\n",
              "    <tr>\n",
              "      <th>1256</th>\n",
              "      <td>2018-02-05</td>\n",
              "      <td>55.530</td>\n",
              "      <td>56.26</td>\n",
              "      <td>54.57</td>\n",
              "      <td>54.69</td>\n",
              "      <td>16059955</td>\n",
              "      <td>SBUX</td>\n",
              "    </tr>\n",
              "    <tr>\n",
              "      <th>1257</th>\n",
              "      <td>2018-02-06</td>\n",
              "      <td>53.685</td>\n",
              "      <td>56.06</td>\n",
              "      <td>53.56</td>\n",
              "      <td>55.61</td>\n",
              "      <td>17415065</td>\n",
              "      <td>SBUX</td>\n",
              "    </tr>\n",
              "    <tr>\n",
              "      <th>1258</th>\n",
              "      <td>2018-02-07</td>\n",
              "      <td>55.080</td>\n",
              "      <td>55.43</td>\n",
              "      <td>54.44</td>\n",
              "      <td>54.46</td>\n",
              "      <td>13927022</td>\n",
              "      <td>SBUX</td>\n",
              "    </tr>\n",
              "  </tbody>\n",
              "</table>\n",
              "</div>"
            ],
            "text/plain": [
              "            date    open   high    low  close    volume  Name\n",
              "1254  2018-02-01  56.280  56.42  55.89  56.00  14690146  SBUX\n",
              "1255  2018-02-02  55.900  56.32  55.70  55.77  15358909  SBUX\n",
              "1256  2018-02-05  55.530  56.26  54.57  54.69  16059955  SBUX\n",
              "1257  2018-02-06  53.685  56.06  53.56  55.61  17415065  SBUX\n",
              "1258  2018-02-07  55.080  55.43  54.44  54.46  13927022  SBUX"
            ]
          },
          "metadata": {
            "tags": []
          },
          "execution_count": 6
        }
      ]
    },
    {
      "cell_type": "code",
      "metadata": {
        "id": "XYwHX8Cd4RQH",
        "colab_type": "code",
        "colab": {}
      },
      "source": [
        "# an example of the wrong method - trying to predect the price\n",
        "series = df['close'].values.reshape(-1, 1)"
      ],
      "execution_count": 0,
      "outputs": []
    },
    {
      "cell_type": "code",
      "metadata": {
        "id": "axsjNkdh4yzy",
        "colab_type": "code",
        "colab": {}
      },
      "source": [
        "# Normalize the data\n",
        "# This is just an Approx of where the true boundary is.\n",
        "scaler = StandardScaler()\n",
        "scaler.fit(series[:len(series) // 2])\n",
        "series = scaler.transform(series).flatten()"
      ],
      "execution_count": 0,
      "outputs": []
    },
    {
      "cell_type": "code",
      "metadata": {
        "id": "bU6Y_LXo5azM",
        "colab_type": "code",
        "colab": {
          "base_uri": "https://localhost:8080/",
          "height": 34
        },
        "outputId": "0c736ca6-9058-4b96-a118-f458a67daa24"
      },
      "source": [
        "### Build the dataset\n",
        "# let's see if we can use T past values to predict the next value\n",
        "T = 10\n",
        "D = 1\n",
        "X = []\n",
        "Y = []\n",
        "for t in range(len(series) - T):\n",
        "  x = series[t:t+T]\n",
        "  X.append(x)\n",
        "  y = series[t+T]\n",
        "  Y.append(y)\n",
        "X = np.array(X).reshape(-1,T,1) # Now the data should be N x T x D\n",
        "Y = np.array(Y)\n",
        "N = len(X)\n",
        "print(\"X.shape\", X.shape, \"Y.shape\", Y.shape)"
      ],
      "execution_count": 10,
      "outputs": [
        {
          "output_type": "stream",
          "text": [
            "X.shape (1249, 10, 1) Y.shape (1249,)\n"
          ],
          "name": "stdout"
        }
      ]
    },
    {
      "cell_type": "code",
      "metadata": {
        "id": "ri4o5fOg7XN5",
        "colab_type": "code",
        "colab": {
          "base_uri": "https://localhost:8080/",
          "height": 1000
        },
        "outputId": "e0245b1b-3385-4a69-e300-b89ec799dae6"
      },
      "source": [
        "## trying an autoregressive RNN model\n",
        "i = Input(shape=(T, 1))\n",
        "x = LSTM(5)(i)\n",
        "x = Dense(1)(x)\n",
        "model = Model(i, x)\n",
        "model.compile(\n",
        "    loss='mse',\n",
        "    optimizer=Adam(lr=0.1),\n",
        ")\n",
        "\n",
        "# train the RNN\n",
        "r = model.fit(\n",
        "    X[:-N//2], Y[:-N//2],\n",
        "    epochs=80,\n",
        "    validation_data=(X[-N//2:], Y[-N//2:]),\n",
        ")"
      ],
      "execution_count": 11,
      "outputs": [
        {
          "output_type": "stream",
          "text": [
            "Train on 624 samples, validate on 625 samples\n",
            "Epoch 1/80\n",
            "624/624 [==============================] - 1s 2ms/sample - loss: 0.0983 - val_loss: 0.3372\n",
            "Epoch 2/80\n",
            "624/624 [==============================] - 0s 264us/sample - loss: 0.0111 - val_loss: 0.0363\n",
            "Epoch 3/80\n",
            "624/624 [==============================] - 0s 265us/sample - loss: 0.0065 - val_loss: 0.0188\n",
            "Epoch 4/80\n",
            "624/624 [==============================] - 0s 286us/sample - loss: 0.0056 - val_loss: 0.0147\n",
            "Epoch 5/80\n",
            "624/624 [==============================] - 0s 274us/sample - loss: 0.0063 - val_loss: 0.0212\n",
            "Epoch 6/80\n",
            "624/624 [==============================] - 0s 266us/sample - loss: 0.0072 - val_loss: 0.0178\n",
            "Epoch 7/80\n",
            "624/624 [==============================] - 0s 282us/sample - loss: 0.0063 - val_loss: 0.0202\n",
            "Epoch 8/80\n",
            "624/624 [==============================] - 0s 259us/sample - loss: 0.0055 - val_loss: 0.0225\n",
            "Epoch 9/80\n",
            "624/624 [==============================] - 0s 288us/sample - loss: 0.0056 - val_loss: 0.0205\n",
            "Epoch 10/80\n",
            "624/624 [==============================] - 0s 311us/sample - loss: 0.0059 - val_loss: 0.0198\n",
            "Epoch 11/80\n",
            "624/624 [==============================] - 0s 275us/sample - loss: 0.0058 - val_loss: 0.0183\n",
            "Epoch 12/80\n",
            "624/624 [==============================] - 0s 294us/sample - loss: 0.0059 - val_loss: 0.0359\n",
            "Epoch 13/80\n",
            "624/624 [==============================] - 0s 275us/sample - loss: 0.0074 - val_loss: 0.0340\n",
            "Epoch 14/80\n",
            "624/624 [==============================] - 0s 280us/sample - loss: 0.0058 - val_loss: 0.0180\n",
            "Epoch 15/80\n",
            "624/624 [==============================] - 0s 299us/sample - loss: 0.0055 - val_loss: 0.0244\n",
            "Epoch 16/80\n",
            "624/624 [==============================] - 0s 286us/sample - loss: 0.0068 - val_loss: 0.0308\n",
            "Epoch 17/80\n",
            "624/624 [==============================] - 0s 260us/sample - loss: 0.0056 - val_loss: 0.0188\n",
            "Epoch 18/80\n",
            "624/624 [==============================] - 0s 252us/sample - loss: 0.0053 - val_loss: 0.0210\n",
            "Epoch 19/80\n",
            "624/624 [==============================] - 0s 250us/sample - loss: 0.0055 - val_loss: 0.0415\n",
            "Epoch 20/80\n",
            "624/624 [==============================] - 0s 312us/sample - loss: 0.0065 - val_loss: 0.0377\n",
            "Epoch 21/80\n",
            "624/624 [==============================] - 0s 272us/sample - loss: 0.0065 - val_loss: 0.0194\n",
            "Epoch 22/80\n",
            "624/624 [==============================] - 0s 255us/sample - loss: 0.0060 - val_loss: 0.0383\n",
            "Epoch 23/80\n",
            "624/624 [==============================] - 0s 252us/sample - loss: 0.0062 - val_loss: 0.0214\n",
            "Epoch 24/80\n",
            "624/624 [==============================] - 0s 256us/sample - loss: 0.0063 - val_loss: 0.0219\n",
            "Epoch 25/80\n",
            "624/624 [==============================] - 0s 269us/sample - loss: 0.0096 - val_loss: 0.1252\n",
            "Epoch 26/80\n",
            "624/624 [==============================] - 0s 271us/sample - loss: 0.0090 - val_loss: 0.0173\n",
            "Epoch 27/80\n",
            "624/624 [==============================] - 0s 252us/sample - loss: 0.0060 - val_loss: 0.0315\n",
            "Epoch 28/80\n",
            "624/624 [==============================] - 0s 274us/sample - loss: 0.0064 - val_loss: 0.0242\n",
            "Epoch 29/80\n",
            "624/624 [==============================] - 0s 247us/sample - loss: 0.0059 - val_loss: 0.0205\n",
            "Epoch 30/80\n",
            "624/624 [==============================] - 0s 239us/sample - loss: 0.0063 - val_loss: 0.0392\n",
            "Epoch 31/80\n",
            "624/624 [==============================] - 0s 252us/sample - loss: 0.0055 - val_loss: 0.0224\n",
            "Epoch 32/80\n",
            "624/624 [==============================] - 0s 249us/sample - loss: 0.0053 - val_loss: 0.0239\n",
            "Epoch 33/80\n",
            "624/624 [==============================] - 0s 272us/sample - loss: 0.0060 - val_loss: 0.0332\n",
            "Epoch 34/80\n",
            "624/624 [==============================] - 0s 270us/sample - loss: 0.0069 - val_loss: 0.0281\n",
            "Epoch 35/80\n",
            "624/624 [==============================] - 0s 259us/sample - loss: 0.0054 - val_loss: 0.0186\n",
            "Epoch 36/80\n",
            "624/624 [==============================] - 0s 260us/sample - loss: 0.0052 - val_loss: 0.0365\n",
            "Epoch 37/80\n",
            "624/624 [==============================] - 0s 256us/sample - loss: 0.0053 - val_loss: 0.0200\n",
            "Epoch 38/80\n",
            "624/624 [==============================] - 0s 259us/sample - loss: 0.0065 - val_loss: 0.0198\n",
            "Epoch 39/80\n",
            "624/624 [==============================] - 0s 273us/sample - loss: 0.0058 - val_loss: 0.0370\n",
            "Epoch 40/80\n",
            "624/624 [==============================] - 0s 260us/sample - loss: 0.0063 - val_loss: 0.0212\n",
            "Epoch 41/80\n",
            "624/624 [==============================] - 0s 252us/sample - loss: 0.0053 - val_loss: 0.0182\n",
            "Epoch 42/80\n",
            "624/624 [==============================] - 0s 265us/sample - loss: 0.0053 - val_loss: 0.0289\n",
            "Epoch 43/80\n",
            "624/624 [==============================] - 0s 257us/sample - loss: 0.0054 - val_loss: 0.0194\n",
            "Epoch 44/80\n",
            "624/624 [==============================] - 0s 252us/sample - loss: 0.0053 - val_loss: 0.0160\n",
            "Epoch 45/80\n",
            "624/624 [==============================] - 0s 251us/sample - loss: 0.0056 - val_loss: 0.0269\n",
            "Epoch 46/80\n",
            "624/624 [==============================] - 0s 266us/sample - loss: 0.0060 - val_loss: 0.0168\n",
            "Epoch 47/80\n",
            "624/624 [==============================] - 0s 265us/sample - loss: 0.0057 - val_loss: 0.0215\n",
            "Epoch 48/80\n",
            "624/624 [==============================] - 0s 271us/sample - loss: 0.0081 - val_loss: 0.1491\n",
            "Epoch 49/80\n",
            "624/624 [==============================] - 0s 261us/sample - loss: 0.0099 - val_loss: 0.0488\n",
            "Epoch 50/80\n",
            "624/624 [==============================] - 0s 271us/sample - loss: 0.0060 - val_loss: 0.0200\n",
            "Epoch 51/80\n",
            "624/624 [==============================] - 0s 258us/sample - loss: 0.0064 - val_loss: 0.0261\n",
            "Epoch 52/80\n",
            "624/624 [==============================] - 0s 247us/sample - loss: 0.0057 - val_loss: 0.0243\n",
            "Epoch 53/80\n",
            "624/624 [==============================] - 0s 261us/sample - loss: 0.0051 - val_loss: 0.0176\n",
            "Epoch 54/80\n",
            "624/624 [==============================] - 0s 239us/sample - loss: 0.0054 - val_loss: 0.0221\n",
            "Epoch 55/80\n",
            "624/624 [==============================] - 0s 255us/sample - loss: 0.0065 - val_loss: 0.0923\n",
            "Epoch 56/80\n",
            "624/624 [==============================] - 0s 259us/sample - loss: 0.0102 - val_loss: 0.0224\n",
            "Epoch 57/80\n",
            "624/624 [==============================] - 0s 260us/sample - loss: 0.0059 - val_loss: 0.0306\n",
            "Epoch 58/80\n",
            "624/624 [==============================] - 0s 257us/sample - loss: 0.0060 - val_loss: 0.0224\n",
            "Epoch 59/80\n",
            "624/624 [==============================] - 0s 267us/sample - loss: 0.0055 - val_loss: 0.0176\n",
            "Epoch 60/80\n",
            "624/624 [==============================] - 0s 246us/sample - loss: 0.0058 - val_loss: 0.0143\n",
            "Epoch 61/80\n",
            "624/624 [==============================] - 0s 266us/sample - loss: 0.0077 - val_loss: 0.0542\n",
            "Epoch 62/80\n",
            "624/624 [==============================] - 0s 246us/sample - loss: 0.0081 - val_loss: 0.0174\n",
            "Epoch 63/80\n",
            "624/624 [==============================] - 0s 264us/sample - loss: 0.0058 - val_loss: 0.0157\n",
            "Epoch 64/80\n",
            "624/624 [==============================] - 0s 239us/sample - loss: 0.0052 - val_loss: 0.0176\n",
            "Epoch 65/80\n",
            "624/624 [==============================] - 0s 231us/sample - loss: 0.0049 - val_loss: 0.0446\n",
            "Epoch 66/80\n",
            "624/624 [==============================] - 0s 251us/sample - loss: 0.0055 - val_loss: 0.0180\n",
            "Epoch 67/80\n",
            "624/624 [==============================] - 0s 259us/sample - loss: 0.0055 - val_loss: 0.0147\n",
            "Epoch 68/80\n",
            "624/624 [==============================] - 0s 265us/sample - loss: 0.0054 - val_loss: 0.0136\n",
            "Epoch 69/80\n",
            "624/624 [==============================] - 0s 260us/sample - loss: 0.0062 - val_loss: 0.0165\n",
            "Epoch 70/80\n",
            "624/624 [==============================] - 0s 264us/sample - loss: 0.0059 - val_loss: 0.0174\n",
            "Epoch 71/80\n",
            "624/624 [==============================] - 0s 251us/sample - loss: 0.0053 - val_loss: 0.0157\n",
            "Epoch 72/80\n",
            "624/624 [==============================] - 0s 254us/sample - loss: 0.0059 - val_loss: 0.0274\n",
            "Epoch 73/80\n",
            "624/624 [==============================] - 0s 259us/sample - loss: 0.0060 - val_loss: 0.0142\n",
            "Epoch 74/80\n",
            "624/624 [==============================] - 0s 263us/sample - loss: 0.0053 - val_loss: 0.0227\n",
            "Epoch 75/80\n",
            "624/624 [==============================] - 0s 258us/sample - loss: 0.0054 - val_loss: 0.0180\n",
            "Epoch 76/80\n",
            "624/624 [==============================] - 0s 257us/sample - loss: 0.0052 - val_loss: 0.0148\n",
            "Epoch 77/80\n",
            "624/624 [==============================] - 0s 256us/sample - loss: 0.0053 - val_loss: 0.0251\n",
            "Epoch 78/80\n",
            "624/624 [==============================] - 0s 251us/sample - loss: 0.0060 - val_loss: 0.0189\n",
            "Epoch 79/80\n",
            "624/624 [==============================] - 0s 266us/sample - loss: 0.0060 - val_loss: 0.0234\n",
            "Epoch 80/80\n",
            "624/624 [==============================] - 0s 276us/sample - loss: 0.0067 - val_loss: 0.0195\n"
          ],
          "name": "stdout"
        }
      ]
    },
    {
      "cell_type": "code",
      "metadata": {
        "id": "2HMTbg178zae",
        "colab_type": "code",
        "colab": {
          "base_uri": "https://localhost:8080/",
          "height": 284
        },
        "outputId": "2e17b101-c0ed-4b72-e6c2-e0db55b836f4"
      },
      "source": [
        "import matplotlib.pyplot as plt\n",
        "plt.plot(r.history['loss'], label='loss')\n",
        "plt.plot(r.history['val_loss'], label='val_loss')\n",
        "plt.legend()"
      ],
      "execution_count": 12,
      "outputs": [
        {
          "output_type": "execute_result",
          "data": {
            "text/plain": [
              "<matplotlib.legend.Legend at 0x7f8733e48c18>"
            ]
          },
          "metadata": {
            "tags": []
          },
          "execution_count": 12
        },
        {
          "output_type": "display_data",
          "data": {
            "image/png": "[encoded data removed]",
            "text/plain": [
              "<Figure size 432x288 with 1 Axes>"
            ]
          },
          "metadata": {
            "tags": []
          }
        }
      ]
    },
    {
      "cell_type": "code",
      "metadata": {
        "id": "PBmF91H-9Acy",
        "colab_type": "code",
        "colab": {
          "base_uri": "https://localhost:8080/",
          "height": 282
        },
        "outputId": "aa010634-f7ce-4395-fff5-3495c421d2ec"
      },
      "source": [
        "\n",
        "# one-step forecast using true targets\n",
        "outputs = model.predict(X)\n",
        "print(outputs.shape)\n",
        "predictions = outputs[:,0]\n",
        "\n",
        "plt.plot(Y, label='targets')\n",
        "plt.plot(predictions, label='predictions')\n",
        "plt.legend()\n",
        "plt.show()"
      ],
      "execution_count": 13,
      "outputs": [
        {
          "output_type": "stream",
          "text": [
            "(1249, 1)\n"
          ],
          "name": "stdout"
        },
        {
          "output_type": "display_data",
          "data": {
            "image/png": "[encoded data removed]",
            "text/plain": [
              "<Figure size 432x288 with 1 Axes>"
            ]
          },
          "metadata": {
            "tags": []
          }
        }
      ]
    },
    {
      "cell_type": "code",
      "metadata": {
        "id": "nNLdy0lU-LAK",
        "colab_type": "code",
        "colab": {
          "base_uri": "https://localhost:8080/",
          "height": 282
        },
        "outputId": "fefcd5e3-1d4e-43cb-fccf-533d7dd276ad"
      },
      "source": [
        "# Multi-step forecast\n",
        "validation_target = Y[-N//2:]\n",
        "validation_predictions = []\n",
        "\n",
        "# last train input\n",
        "last_x = X[-N//2] # 1-D\n",
        "\n",
        "while len(validation_predictions) < len(validation_target):\n",
        "  p = model.predict(last_x.reshape(1, T, 1))[0,0] # 1x1 array -> scalar\n",
        "\n",
        "  # update the predictions list\n",
        "  validation_predictions.append(p)\n",
        "\n",
        "  #make the new input\n",
        "  last_x = np.roll(last_x, -1)\n",
        "  last_x[-1] = p\n",
        "\n",
        "plt.plot(validation_target, label='forecast target')\n",
        "plt.plot(validation_predictions, label='forecast prediction')\n",
        "plt.legend()"
      ],
      "execution_count": 14,
      "outputs": [
        {
          "output_type": "execute_result",
          "data": {
            "text/plain": [
              "<matplotlib.legend.Legend at 0x7f87300877b8>"
            ]
          },
          "metadata": {
            "tags": []
          },
          "execution_count": 14
        },
        {
          "output_type": "display_data",
          "data": {
            "image/png": "[encoded data removed]",
            "text/plain": [
              "<Figure size 432x288 with 1 Axes>"
            ]
          },
          "metadata": {
            "tags": []
          }
        }
      ]
    },
    {
      "cell_type": "code",
      "metadata": {
        "id": "ECn2Z3JJALq0",
        "colab_type": "code",
        "colab": {}
      },
      "source": [
        ""
      ],
      "execution_count": 0,
      "outputs": []
    }
  ]
}