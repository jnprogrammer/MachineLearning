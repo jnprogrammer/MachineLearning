{
  "nbformat": 4,
  "nbformat_minor": 0,
  "metadata": {
    "colab": {
      "name": "Stock Returns via RNN LSTM.ipynb",
      "provenance": [],
      "collapsed_sections": [],
      "authorship_tag": "ABX9TyPAK0kqTP6Bk/B46ty3MdMu",
      "include_colab_link": true
    },
    "kernelspec": {
      "name": "python3",
      "display_name": "Python 3"
    }
  },
  "cells": [
    {
      "cell_type": "markdown",
      "metadata": {
        "id": "view-in-github",
        "colab_type": "text"
      },
      "source": [
        "<a href=\"https://colab.research.google.com/github/jnprogrammer/MachineLearning/blob/master/Stock_Returns_via_RNN_LSTM.ipynb\" target=\"_parent\"><img src=\"https://colab.research.google.com/assets/colab-badge.svg\" alt=\"Open In Colab\"/></a>"
      ]
    },
    {
      "cell_type": "code",
      "metadata": {
        "id": "oZovZW571nYm",
        "colab_type": "code",
        "outputId": "3ed98f54-96a4-4717-e3df-5fbae5e980d7",
        "colab": {
          "base_uri": "https://localhost:8080/",
          "height": 34
        }
      },
      "source": [
        "!pip install -q tensorflow-gpu==2.0.0-beta1\n",
        "import tensorflow as tf\n",
        "print(tf.__version__)"
      ],
      "execution_count": 26,
      "outputs": [
        {
          "output_type": "stream",
          "text": [
            "2.0.0-beta1\n"
          ],
          "name": "stdout"
        }
      ]
    },
    {
      "cell_type": "code",
      "metadata": {
        "id": "WkgXmQk315pf",
        "colab_type": "code",
        "colab": {}
      },
      "source": [
        "from tensorflow.keras.layers import Input, LSTM, GRU, SimpleRNN, Dense, GlobalMaxPool1D\n",
        "from tensorflow.keras.models import Model\n",
        "from tensorflow.keras.optimizers import SGD, Adam\n",
        "\n",
        "import numpy as np\n",
        "import pandas as pd\n",
        "import matplotlib.pyplot as plt\n",
        "from sklearn.preprocessing import StandardScaler\n"
      ],
      "execution_count": 0,
      "outputs": []
    },
    {
      "cell_type": "code",
      "metadata": {
        "id": "trrgMiva3bC5",
        "colab_type": "code",
        "colab": {}
      },
      "source": [
        "df = pd.read_csv('https://raw.githubusercontent.com/lazyprogrammer/machine_learning_examples/master/tf2.0/sbux.csv')"
      ],
      "execution_count": 0,
      "outputs": []
    },
    {
      "cell_type": "code",
      "metadata": {
        "id": "rplcna3z4Kie",
        "colab_type": "code",
        "outputId": "08ba32e4-7d17-4864-eb6a-cbdab49575c2",
        "colab": {
          "base_uri": "https://localhost:8080/",
          "height": 204
        }
      },
      "source": [
        "df.head()"
      ],
      "execution_count": 4,
      "outputs": [
        {
          "output_type": "execute_result",
          "data": {
            "text/html": [
              "<div>\n",
              "<style scoped>\n",
              "    .dataframe tbody tr th:only-of-type {\n",
              "        vertical-align: middle;\n",
              "    }\n",
              "\n",
              "    .dataframe tbody tr th {\n",
              "        vertical-align: top;\n",
              "    }\n",
              "\n",
              "    .dataframe thead th {\n",
              "        text-align: right;\n",
              "    }\n",
              "</style>\n",
              "<table border=\"1\" class=\"dataframe\">\n",
              "  <thead>\n",
              "    <tr style=\"text-align: right;\">\n",
              "      <th></th>\n",
              "      <th>date</th>\n",
              "      <th>open</th>\n",
              "      <th>high</th>\n",
              "      <th>low</th>\n",
              "      <th>close</th>\n",
              "      <th>volume</th>\n",
              "      <th>Name</th>\n",
              "    </tr>\n",
              "  </thead>\n",
              "  <tbody>\n",
              "    <tr>\n",
              "      <th>0</th>\n",
              "      <td>2013-02-08</td>\n",
              "      <td>27.920</td>\n",
              "      <td>28.325</td>\n",
              "      <td>27.920</td>\n",
              "      <td>28.185</td>\n",
              "      <td>7146296</td>\n",
              "      <td>SBUX</td>\n",
              "    </tr>\n",
              "    <tr>\n",
              "      <th>1</th>\n",
              "      <td>2013-02-11</td>\n",
              "      <td>28.260</td>\n",
              "      <td>28.260</td>\n",
              "      <td>27.930</td>\n",
              "      <td>28.070</td>\n",
              "      <td>5457354</td>\n",
              "      <td>SBUX</td>\n",
              "    </tr>\n",
              "    <tr>\n",
              "      <th>2</th>\n",
              "      <td>2013-02-12</td>\n",
              "      <td>28.000</td>\n",
              "      <td>28.275</td>\n",
              "      <td>27.975</td>\n",
              "      <td>28.130</td>\n",
              "      <td>8665592</td>\n",
              "      <td>SBUX</td>\n",
              "    </tr>\n",
              "    <tr>\n",
              "      <th>3</th>\n",
              "      <td>2013-02-13</td>\n",
              "      <td>28.230</td>\n",
              "      <td>28.230</td>\n",
              "      <td>27.750</td>\n",
              "      <td>27.915</td>\n",
              "      <td>7022056</td>\n",
              "      <td>SBUX</td>\n",
              "    </tr>\n",
              "    <tr>\n",
              "      <th>4</th>\n",
              "      <td>2013-02-14</td>\n",
              "      <td>27.765</td>\n",
              "      <td>27.905</td>\n",
              "      <td>27.675</td>\n",
              "      <td>27.775</td>\n",
              "      <td>8899188</td>\n",
              "      <td>SBUX</td>\n",
              "    </tr>\n",
              "  </tbody>\n",
              "</table>\n",
              "</div>"
            ],
            "text/plain": [
              "         date    open    high     low   close   volume  Name\n",
              "0  2013-02-08  27.920  28.325  27.920  28.185  7146296  SBUX\n",
              "1  2013-02-11  28.260  28.260  27.930  28.070  5457354  SBUX\n",
              "2  2013-02-12  28.000  28.275  27.975  28.130  8665592  SBUX\n",
              "3  2013-02-13  28.230  28.230  27.750  27.915  7022056  SBUX\n",
              "4  2013-02-14  27.765  27.905  27.675  27.775  8899188  SBUX"
            ]
          },
          "metadata": {
            "tags": []
          },
          "execution_count": 4
        }
      ]
    },
    {
      "cell_type": "code",
      "metadata": {
        "id": "OrcbxSFx4OWg",
        "colab_type": "code",
        "outputId": "20a02d7f-95d8-462d-e64e-825832f81795",
        "colab": {
          "base_uri": "https://localhost:8080/",
          "height": 204
        }
      },
      "source": [
        "df.tail()"
      ],
      "execution_count": 5,
      "outputs": [
        {
          "output_type": "execute_result",
          "data": {
            "text/html": [
              "<div>\n",
              "<style scoped>\n",
              "    .dataframe tbody tr th:only-of-type {\n",
              "        vertical-align: middle;\n",
              "    }\n",
              "\n",
              "    .dataframe tbody tr th {\n",
              "        vertical-align: top;\n",
              "    }\n",
              "\n",
              "    .dataframe thead th {\n",
              "        text-align: right;\n",
              "    }\n",
              "</style>\n",
              "<table border=\"1\" class=\"dataframe\">\n",
              "  <thead>\n",
              "    <tr style=\"text-align: right;\">\n",
              "      <th></th>\n",
              "      <th>date</th>\n",
              "      <th>open</th>\n",
              "      <th>high</th>\n",
              "      <th>low</th>\n",
              "      <th>close</th>\n",
              "      <th>volume</th>\n",
              "      <th>Name</th>\n",
              "    </tr>\n",
              "  </thead>\n",
              "  <tbody>\n",
              "    <tr>\n",
              "      <th>1254</th>\n",
              "      <td>2018-02-01</td>\n",
              "      <td>56.280</td>\n",
              "      <td>56.42</td>\n",
              "      <td>55.89</td>\n",
              "      <td>56.00</td>\n",
              "      <td>14690146</td>\n",
              "      <td>SBUX</td>\n",
              "    </tr>\n",
              "    <tr>\n",
              "      <th>1255</th>\n",
              "      <td>2018-02-02</td>\n",
              "      <td>55.900</td>\n",
              "      <td>56.32</td>\n",
              "      <td>55.70</td>\n",
              "      <td>55.77</td>\n",
              "      <td>15358909</td>\n",
              "      <td>SBUX</td>\n",
              "    </tr>\n",
              "    <tr>\n",
              "      <th>1256</th>\n",
              "      <td>2018-02-05</td>\n",
              "      <td>55.530</td>\n",
              "      <td>56.26</td>\n",
              "      <td>54.57</td>\n",
              "      <td>54.69</td>\n",
              "      <td>16059955</td>\n",
              "      <td>SBUX</td>\n",
              "    </tr>\n",
              "    <tr>\n",
              "      <th>1257</th>\n",
              "      <td>2018-02-06</td>\n",
              "      <td>53.685</td>\n",
              "      <td>56.06</td>\n",
              "      <td>53.56</td>\n",
              "      <td>55.61</td>\n",
              "      <td>17415065</td>\n",
              "      <td>SBUX</td>\n",
              "    </tr>\n",
              "    <tr>\n",
              "      <th>1258</th>\n",
              "      <td>2018-02-07</td>\n",
              "      <td>55.080</td>\n",
              "      <td>55.43</td>\n",
              "      <td>54.44</td>\n",
              "      <td>54.46</td>\n",
              "      <td>13927022</td>\n",
              "      <td>SBUX</td>\n",
              "    </tr>\n",
              "  </tbody>\n",
              "</table>\n",
              "</div>"
            ],
            "text/plain": [
              "            date    open   high    low  close    volume  Name\n",
              "1254  2018-02-01  56.280  56.42  55.89  56.00  14690146  SBUX\n",
              "1255  2018-02-02  55.900  56.32  55.70  55.77  15358909  SBUX\n",
              "1256  2018-02-05  55.530  56.26  54.57  54.69  16059955  SBUX\n",
              "1257  2018-02-06  53.685  56.06  53.56  55.61  17415065  SBUX\n",
              "1258  2018-02-07  55.080  55.43  54.44  54.46  13927022  SBUX"
            ]
          },
          "metadata": {
            "tags": []
          },
          "execution_count": 5
        }
      ]
    },
    {
      "cell_type": "code",
      "metadata": {
        "id": "XYwHX8Cd4RQH",
        "colab_type": "code",
        "colab": {}
      },
      "source": [
        "# an example of the wrong method - trying to predect the price\n",
        "series = df['close'].values.reshape(-1, 1)"
      ],
      "execution_count": 0,
      "outputs": []
    },
    {
      "cell_type": "code",
      "metadata": {
        "id": "axsjNkdh4yzy",
        "colab_type": "code",
        "colab": {}
      },
      "source": [
        "# Normalize the data\n",
        "# This is just an Approx of where the true boundary is.\n",
        "scaler = StandardScaler()\n",
        "scaler.fit(series[:len(series) // 2])\n",
        "series = scaler.transform(series).flatten()"
      ],
      "execution_count": 0,
      "outputs": []
    },
    {
      "cell_type": "code",
      "metadata": {
        "id": "bU6Y_LXo5azM",
        "colab_type": "code",
        "outputId": "58813827-12f1-492f-bd34-968add3d47f9",
        "colab": {
          "base_uri": "https://localhost:8080/",
          "height": 34
        }
      },
      "source": [
        "### Build the dataset\n",
        "# let's see if we can use T past values to predict the next value\n",
        "T = 10\n",
        "D = 1\n",
        "X = []\n",
        "Y = []\n",
        "for t in range(len(series) - T):\n",
        "  x = series[t:t+T]\n",
        "  X.append(x)\n",
        "  y = series[t+T]\n",
        "  Y.append(y)\n",
        "X = np.array(X).reshape(-1,T,1) # Now the data should be N x T x D\n",
        "Y = np.array(Y)\n",
        "N = len(X)\n",
        "print(\"X.shape\", X.shape, \"Y.shape\", Y.shape)"
      ],
      "execution_count": 8,
      "outputs": [
        {
          "output_type": "stream",
          "text": [
            "X.shape (1249, 10, 1) Y.shape (1249,)\n"
          ],
          "name": "stdout"
        }
      ]
    },
    {
      "cell_type": "code",
      "metadata": {
        "id": "ri4o5fOg7XN5",
        "colab_type": "code",
        "outputId": "4c9dee75-e771-45e2-955d-fca4eaf14146",
        "colab": {
          "base_uri": "https://localhost:8080/",
          "height": 1000
        }
      },
      "source": [
        "## trying an autoregressive RNN model\n",
        "i = Input(shape=(T, 1))\n",
        "x = LSTM(5)(i)\n",
        "x = Dense(1)(x)\n",
        "model = Model(i, x)\n",
        "model.compile(\n",
        "    loss='mse',\n",
        "    optimizer=Adam(lr=0.1),\n",
        ")\n",
        "\n",
        "# train the RNN\n",
        "r = model.fit(\n",
        "    X[:-N//2], Y[:-N//2],\n",
        "    epochs=80,\n",
        "    validation_data=(X[-N//2:], Y[-N//2:]),\n",
        ")"
      ],
      "execution_count": 9,
      "outputs": [
        {
          "output_type": "stream",
          "text": [
            "Train on 624 samples, validate on 625 samples\n",
            "Epoch 1/80\n",
            "624/624 [==============================] - 1s 2ms/sample - loss: 0.2267 - val_loss: 0.1586\n",
            "Epoch 2/80\n",
            "624/624 [==============================] - 0s 261us/sample - loss: 0.0145 - val_loss: 0.0301\n",
            "Epoch 3/80\n",
            "624/624 [==============================] - 0s 283us/sample - loss: 0.0087 - val_loss: 0.0316\n",
            "Epoch 4/80\n",
            "624/624 [==============================] - 0s 293us/sample - loss: 0.0077 - val_loss: 0.0426\n",
            "Epoch 5/80\n",
            "624/624 [==============================] - 0s 284us/sample - loss: 0.0064 - val_loss: 0.0331\n",
            "Epoch 6/80\n",
            "624/624 [==============================] - 0s 253us/sample - loss: 0.0061 - val_loss: 0.0344\n",
            "Epoch 7/80\n",
            "624/624 [==============================] - 0s 319us/sample - loss: 0.0060 - val_loss: 0.0318\n",
            "Epoch 8/80\n",
            "624/624 [==============================] - 0s 291us/sample - loss: 0.0056 - val_loss: 0.0291\n",
            "Epoch 9/80\n",
            "624/624 [==============================] - 0s 274us/sample - loss: 0.0061 - val_loss: 0.0454\n",
            "Epoch 10/80\n",
            "624/624 [==============================] - 0s 279us/sample - loss: 0.0055 - val_loss: 0.0385\n",
            "Epoch 11/80\n",
            "624/624 [==============================] - 0s 262us/sample - loss: 0.0064 - val_loss: 0.0622\n",
            "Epoch 12/80\n",
            "624/624 [==============================] - 0s 259us/sample - loss: 0.0059 - val_loss: 0.0345\n",
            "Epoch 13/80\n",
            "624/624 [==============================] - 0s 255us/sample - loss: 0.0054 - val_loss: 0.0360\n",
            "Epoch 14/80\n",
            "624/624 [==============================] - 0s 249us/sample - loss: 0.0051 - val_loss: 0.0343\n",
            "Epoch 15/80\n",
            "624/624 [==============================] - 0s 241us/sample - loss: 0.0054 - val_loss: 0.0342\n",
            "Epoch 16/80\n",
            "624/624 [==============================] - 0s 248us/sample - loss: 0.0053 - val_loss: 0.0487\n",
            "Epoch 17/80\n",
            "624/624 [==============================] - 0s 293us/sample - loss: 0.0061 - val_loss: 0.0315\n",
            "Epoch 18/80\n",
            "624/624 [==============================] - 0s 276us/sample - loss: 0.0056 - val_loss: 0.0364\n",
            "Epoch 19/80\n",
            "624/624 [==============================] - 0s 281us/sample - loss: 0.0065 - val_loss: 0.0540\n",
            "Epoch 20/80\n",
            "624/624 [==============================] - 0s 255us/sample - loss: 0.0071 - val_loss: 0.0372\n",
            "Epoch 21/80\n",
            "624/624 [==============================] - 0s 277us/sample - loss: 0.0061 - val_loss: 0.0271\n",
            "Epoch 22/80\n",
            "624/624 [==============================] - 0s 266us/sample - loss: 0.0059 - val_loss: 0.0277\n",
            "Epoch 23/80\n",
            "624/624 [==============================] - 0s 275us/sample - loss: 0.0055 - val_loss: 0.0307\n",
            "Epoch 24/80\n",
            "624/624 [==============================] - 0s 263us/sample - loss: 0.0055 - val_loss: 0.0308\n",
            "Epoch 25/80\n",
            "624/624 [==============================] - 0s 258us/sample - loss: 0.0058 - val_loss: 0.0437\n",
            "Epoch 26/80\n",
            "624/624 [==============================] - 0s 264us/sample - loss: 0.0071 - val_loss: 0.0443\n",
            "Epoch 27/80\n",
            "624/624 [==============================] - 0s 286us/sample - loss: 0.0062 - val_loss: 0.0544\n",
            "Epoch 28/80\n",
            "624/624 [==============================] - 0s 271us/sample - loss: 0.0064 - val_loss: 0.0330\n",
            "Epoch 29/80\n",
            "624/624 [==============================] - 0s 243us/sample - loss: 0.0073 - val_loss: 0.0301\n",
            "Epoch 30/80\n",
            "624/624 [==============================] - 0s 238us/sample - loss: 0.0056 - val_loss: 0.0326\n",
            "Epoch 31/80\n",
            "624/624 [==============================] - 0s 287us/sample - loss: 0.0060 - val_loss: 0.0276\n",
            "Epoch 32/80\n",
            "624/624 [==============================] - 0s 245us/sample - loss: 0.0071 - val_loss: 0.0513\n",
            "Epoch 33/80\n",
            "624/624 [==============================] - 0s 241us/sample - loss: 0.0057 - val_loss: 0.0241\n",
            "Epoch 34/80\n",
            "624/624 [==============================] - 0s 266us/sample - loss: 0.0054 - val_loss: 0.0254\n",
            "Epoch 35/80\n",
            "624/624 [==============================] - 0s 252us/sample - loss: 0.0055 - val_loss: 0.0237\n",
            "Epoch 36/80\n",
            "624/624 [==============================] - 0s 236us/sample - loss: 0.0059 - val_loss: 0.0290\n",
            "Epoch 37/80\n",
            "624/624 [==============================] - 0s 242us/sample - loss: 0.0062 - val_loss: 0.0317\n",
            "Epoch 38/80\n",
            "624/624 [==============================] - 0s 250us/sample - loss: 0.0065 - val_loss: 0.0317\n",
            "Epoch 39/80\n",
            "624/624 [==============================] - 0s 241us/sample - loss: 0.0065 - val_loss: 0.0250\n",
            "Epoch 40/80\n",
            "624/624 [==============================] - 0s 257us/sample - loss: 0.0067 - val_loss: 0.0263\n",
            "Epoch 41/80\n",
            "624/624 [==============================] - 0s 264us/sample - loss: 0.0060 - val_loss: 0.0332\n",
            "Epoch 42/80\n",
            "624/624 [==============================] - 0s 236us/sample - loss: 0.0052 - val_loss: 0.0363\n",
            "Epoch 43/80\n",
            "624/624 [==============================] - 0s 271us/sample - loss: 0.0055 - val_loss: 0.0297\n",
            "Epoch 44/80\n",
            "624/624 [==============================] - 0s 253us/sample - loss: 0.0053 - val_loss: 0.0381\n",
            "Epoch 45/80\n",
            "624/624 [==============================] - 0s 274us/sample - loss: 0.0057 - val_loss: 0.0238\n",
            "Epoch 46/80\n",
            "624/624 [==============================] - 0s 285us/sample - loss: 0.0052 - val_loss: 0.0314\n",
            "Epoch 47/80\n",
            "624/624 [==============================] - 0s 297us/sample - loss: 0.0055 - val_loss: 0.0272\n",
            "Epoch 48/80\n",
            "624/624 [==============================] - 0s 281us/sample - loss: 0.0054 - val_loss: 0.0391\n",
            "Epoch 49/80\n",
            "624/624 [==============================] - 0s 255us/sample - loss: 0.0057 - val_loss: 0.0253\n",
            "Epoch 50/80\n",
            "624/624 [==============================] - 0s 255us/sample - loss: 0.0051 - val_loss: 0.0236\n",
            "Epoch 51/80\n",
            "624/624 [==============================] - 0s 273us/sample - loss: 0.0053 - val_loss: 0.0272\n",
            "Epoch 52/80\n",
            "624/624 [==============================] - 0s 288us/sample - loss: 0.0052 - val_loss: 0.0219\n",
            "Epoch 53/80\n",
            "624/624 [==============================] - 0s 284us/sample - loss: 0.0061 - val_loss: 0.0250\n",
            "Epoch 54/80\n",
            "624/624 [==============================] - 0s 279us/sample - loss: 0.0055 - val_loss: 0.0276\n",
            "Epoch 55/80\n",
            "624/624 [==============================] - 0s 261us/sample - loss: 0.0056 - val_loss: 0.0367\n",
            "Epoch 56/80\n",
            "624/624 [==============================] - 0s 274us/sample - loss: 0.0056 - val_loss: 0.0278\n",
            "Epoch 57/80\n",
            "624/624 [==============================] - 0s 297us/sample - loss: 0.0054 - val_loss: 0.0282\n",
            "Epoch 58/80\n",
            "624/624 [==============================] - 0s 266us/sample - loss: 0.0068 - val_loss: 0.0300\n",
            "Epoch 59/80\n",
            "624/624 [==============================] - 0s 265us/sample - loss: 0.0084 - val_loss: 0.0216\n",
            "Epoch 60/80\n",
            "624/624 [==============================] - 0s 244us/sample - loss: 0.0057 - val_loss: 0.0333\n",
            "Epoch 61/80\n",
            "624/624 [==============================] - 0s 236us/sample - loss: 0.0057 - val_loss: 0.0219\n",
            "Epoch 62/80\n",
            "624/624 [==============================] - 0s 259us/sample - loss: 0.0052 - val_loss: 0.0232\n",
            "Epoch 63/80\n",
            "624/624 [==============================] - 0s 251us/sample - loss: 0.0055 - val_loss: 0.0195\n",
            "Epoch 64/80\n",
            "624/624 [==============================] - 0s 267us/sample - loss: 0.0052 - val_loss: 0.0211\n",
            "Epoch 65/80\n",
            "624/624 [==============================] - 0s 274us/sample - loss: 0.0058 - val_loss: 0.0292\n",
            "Epoch 66/80\n",
            "624/624 [==============================] - 0s 281us/sample - loss: 0.0057 - val_loss: 0.0385\n",
            "Epoch 67/80\n",
            "624/624 [==============================] - 0s 267us/sample - loss: 0.0064 - val_loss: 0.0246\n",
            "Epoch 68/80\n",
            "624/624 [==============================] - 0s 258us/sample - loss: 0.0055 - val_loss: 0.0246\n",
            "Epoch 69/80\n",
            "624/624 [==============================] - 0s 263us/sample - loss: 0.0072 - val_loss: 0.0507\n",
            "Epoch 70/80\n",
            "624/624 [==============================] - 0s 263us/sample - loss: 0.0060 - val_loss: 0.0211\n",
            "Epoch 71/80\n",
            "624/624 [==============================] - 0s 271us/sample - loss: 0.0068 - val_loss: 0.0382\n",
            "Epoch 72/80\n",
            "624/624 [==============================] - 0s 260us/sample - loss: 0.0074 - val_loss: 0.0826\n",
            "Epoch 73/80\n",
            "624/624 [==============================] - 0s 265us/sample - loss: 0.0063 - val_loss: 0.0540\n",
            "Epoch 74/80\n",
            "624/624 [==============================] - 0s 271us/sample - loss: 0.0058 - val_loss: 0.0263\n",
            "Epoch 75/80\n",
            "624/624 [==============================] - 0s 267us/sample - loss: 0.0055 - val_loss: 0.0230\n",
            "Epoch 76/80\n",
            "624/624 [==============================] - 0s 253us/sample - loss: 0.0067 - val_loss: 0.0296\n",
            "Epoch 77/80\n",
            "624/624 [==============================] - 0s 265us/sample - loss: 0.0081 - val_loss: 0.0715\n",
            "Epoch 78/80\n",
            "624/624 [==============================] - 0s 264us/sample - loss: 0.0072 - val_loss: 0.0552\n",
            "Epoch 79/80\n",
            "624/624 [==============================] - 0s 268us/sample - loss: 0.0067 - val_loss: 0.0712\n",
            "Epoch 80/80\n",
            "624/624 [==============================] - 0s 274us/sample - loss: 0.0088 - val_loss: 0.0555\n"
          ],
          "name": "stdout"
        }
      ]
    },
    {
      "cell_type": "code",
      "metadata": {
        "id": "2HMTbg178zae",
        "colab_type": "code",
        "outputId": "2101acbc-3154-435c-ff1d-5a01781b33ae",
        "colab": {
          "base_uri": "https://localhost:8080/",
          "height": 282
        }
      },
      "source": [
        "import matplotlib.pyplot as plt\n",
        "plt.plot(r.history['loss'], label='loss')\n",
        "plt.plot(r.history['val_loss'], label='val_loss')\n",
        "plt.legend()"
      ],
      "execution_count": 10,
      "outputs": [
        {
          "output_type": "execute_result",
          "data": {
            "text/plain": [
              "<matplotlib.legend.Legend at 0x7f8d14f46fd0>"
            ]
          },
          "metadata": {
            "tags": []
          },
          "execution_count": 10
        },
        {
          "output_type": "display_data",
          "data": {
            "image/png": "[encoded data removed]",
            "text/plain": [
              "<Figure size 432x288 with 1 Axes>"
            ]
          },
          "metadata": {
            "tags": []
          }
        }
      ]
    },
    {
      "cell_type": "code",
      "metadata": {
        "id": "PBmF91H-9Acy",
        "colab_type": "code",
        "outputId": "67e9423a-16d3-4934-d4fa-85bd67440559",
        "colab": {
          "base_uri": "https://localhost:8080/",
          "height": 282
        }
      },
      "source": [
        "\n",
        "# one-step forecast using true targets\n",
        "outputs = model.predict(X)\n",
        "print(outputs.shape)\n",
        "predictions = outputs[:,0]\n",
        "\n",
        "plt.plot(Y, label='targets')\n",
        "plt.plot(predictions, label='predictions')\n",
        "plt.legend()\n",
        "plt.show()"
      ],
      "execution_count": 11,
      "outputs": [
        {
          "output_type": "stream",
          "text": [
            "(1249, 1)\n"
          ],
          "name": "stdout"
        },
        {
          "output_type": "display_data",
          "data": {
            "image/png": "[encoded data removed]",
            "text/plain": [
              "<Figure size 432x288 with 1 Axes>"
            ]
          },
          "metadata": {
            "tags": []
          }
        }
      ]
    },
    {
      "cell_type": "code",
      "metadata": {
        "id": "nNLdy0lU-LAK",
        "colab_type": "code",
        "outputId": "3ccfd0d6-3db8-408c-e887-78a1d08b7016",
        "colab": {
          "base_uri": "https://localhost:8080/",
          "height": 282
        }
      },
      "source": [
        "# Multi-step forecast\n",
        "validation_target = Y[-N//2:]\n",
        "validation_predictions = []\n",
        "\n",
        "# last train input\n",
        "last_x = X[-N//2] # 1-D\n",
        "\n",
        "while len(validation_predictions) < len(validation_target):\n",
        "  p = model.predict(last_x.reshape(1, T, 1))[0,0] # 1x1 array -> scalar\n",
        "\n",
        "  # update the predictions list\n",
        "  validation_predictions.append(p)\n",
        "\n",
        "  #make the new input\n",
        "  last_x = np.roll(last_x, -1)\n",
        "  last_x[-1] = p\n",
        "\n",
        "plt.plot(validation_target, label='forecast target')\n",
        "plt.plot(validation_predictions, label='forecast prediction')\n",
        "plt.legend()"
      ],
      "execution_count": 12,
      "outputs": [
        {
          "output_type": "execute_result",
          "data": {
            "text/plain": [
              "<matplotlib.legend.Legend at 0x7f8d110ffac8>"
            ]
          },
          "metadata": {
            "tags": []
          },
          "execution_count": 12
        },
        {
          "output_type": "display_data",
          "data": {
            "image/png": "[encoded data removed]",
            "text/plain": [
              "<Figure size 432x288 with 1 Axes>"
            ]
          },
          "metadata": {
            "tags": []
          }
        }
      ]
    },
    {
      "cell_type": "code",
      "metadata": {
        "id": "ECn2Z3JJALq0",
        "colab_type": "code",
        "colab": {}
      },
      "source": [
        "# calculate returns by first shifting the data\n",
        "df['PrevClose'] = df['close'].shift(1) # move everything up 1\n",
        "\n",
        "# so now its like\n",
        "# close / prev close\n",
        "# x[2] x[1]\n",
        "# x[3] x[2]\n",
        "# x[4] x[3]\n",
        "# ... \n",
        "# x[t] x[t-1] "
      ],
      "execution_count": 0,
      "outputs": []
    },
    {
      "cell_type": "code",
      "metadata": {
        "id": "rzmlwBjUBnjL",
        "colab_type": "code",
        "outputId": "7e784e59-47fc-45a6-c59d-ca4faf1b78a7",
        "colab": {
          "base_uri": "https://localhost:8080/",
          "height": 204
        }
      },
      "source": [
        "df.head()"
      ],
      "execution_count": 14,
      "outputs": [
        {
          "output_type": "execute_result",
          "data": {
            "text/html": [
              "<div>\n",
              "<style scoped>\n",
              "    .dataframe tbody tr th:only-of-type {\n",
              "        vertical-align: middle;\n",
              "    }\n",
              "\n",
              "    .dataframe tbody tr th {\n",
              "        vertical-align: top;\n",
              "    }\n",
              "\n",
              "    .dataframe thead th {\n",
              "        text-align: right;\n",
              "    }\n",
              "</style>\n",
              "<table border=\"1\" class=\"dataframe\">\n",
              "  <thead>\n",
              "    <tr style=\"text-align: right;\">\n",
              "      <th></th>\n",
              "      <th>date</th>\n",
              "      <th>open</th>\n",
              "      <th>high</th>\n",
              "      <th>low</th>\n",
              "      <th>close</th>\n",
              "      <th>volume</th>\n",
              "      <th>Name</th>\n",
              "      <th>PrevClose</th>\n",
              "    </tr>\n",
              "  </thead>\n",
              "  <tbody>\n",
              "    <tr>\n",
              "      <th>0</th>\n",
              "      <td>2013-02-08</td>\n",
              "      <td>27.920</td>\n",
              "      <td>28.325</td>\n",
              "      <td>27.920</td>\n",
              "      <td>28.185</td>\n",
              "      <td>7146296</td>\n",
              "      <td>SBUX</td>\n",
              "      <td>NaN</td>\n",
              "    </tr>\n",
              "    <tr>\n",
              "      <th>1</th>\n",
              "      <td>2013-02-11</td>\n",
              "      <td>28.260</td>\n",
              "      <td>28.260</td>\n",
              "      <td>27.930</td>\n",
              "      <td>28.070</td>\n",
              "      <td>5457354</td>\n",
              "      <td>SBUX</td>\n",
              "      <td>28.185</td>\n",
              "    </tr>\n",
              "    <tr>\n",
              "      <th>2</th>\n",
              "      <td>2013-02-12</td>\n",
              "      <td>28.000</td>\n",
              "      <td>28.275</td>\n",
              "      <td>27.975</td>\n",
              "      <td>28.130</td>\n",
              "      <td>8665592</td>\n",
              "      <td>SBUX</td>\n",
              "      <td>28.070</td>\n",
              "    </tr>\n",
              "    <tr>\n",
              "      <th>3</th>\n",
              "      <td>2013-02-13</td>\n",
              "      <td>28.230</td>\n",
              "      <td>28.230</td>\n",
              "      <td>27.750</td>\n",
              "      <td>27.915</td>\n",
              "      <td>7022056</td>\n",
              "      <td>SBUX</td>\n",
              "      <td>28.130</td>\n",
              "    </tr>\n",
              "    <tr>\n",
              "      <th>4</th>\n",
              "      <td>2013-02-14</td>\n",
              "      <td>27.765</td>\n",
              "      <td>27.905</td>\n",
              "      <td>27.675</td>\n",
              "      <td>27.775</td>\n",
              "      <td>8899188</td>\n",
              "      <td>SBUX</td>\n",
              "      <td>27.915</td>\n",
              "    </tr>\n",
              "  </tbody>\n",
              "</table>\n",
              "</div>"
            ],
            "text/plain": [
              "         date    open    high     low   close   volume  Name  PrevClose\n",
              "0  2013-02-08  27.920  28.325  27.920  28.185  7146296  SBUX        NaN\n",
              "1  2013-02-11  28.260  28.260  27.930  28.070  5457354  SBUX     28.185\n",
              "2  2013-02-12  28.000  28.275  27.975  28.130  8665592  SBUX     28.070\n",
              "3  2013-02-13  28.230  28.230  27.750  27.915  7022056  SBUX     28.130\n",
              "4  2013-02-14  27.765  27.905  27.675  27.775  8899188  SBUX     27.915"
            ]
          },
          "metadata": {
            "tags": []
          },
          "execution_count": 14
        }
      ]
    },
    {
      "cell_type": "code",
      "metadata": {
        "id": "JZo3j-WJBo_m",
        "colab_type": "code",
        "colab": {}
      },
      "source": [
        "# then the return is\n",
        "# (x[t] - x[t-1]) / x[t-1]\n",
        "\n",
        "df['Return'] = (df['close'] - df['PrevClose']) / df['PrevClose']"
      ],
      "execution_count": 0,
      "outputs": []
    },
    {
      "cell_type": "code",
      "metadata": {
        "id": "qPnqqO3QCLCx",
        "colab_type": "code",
        "outputId": "3477fdae-2d22-478b-de95-7cbcc6a54420",
        "colab": {
          "base_uri": "https://localhost:8080/",
          "height": 204
        }
      },
      "source": [
        "df.head()"
      ],
      "execution_count": 16,
      "outputs": [
        {
          "output_type": "execute_result",
          "data": {
            "text/html": [
              "<div>\n",
              "<style scoped>\n",
              "    .dataframe tbody tr th:only-of-type {\n",
              "        vertical-align: middle;\n",
              "    }\n",
              "\n",
              "    .dataframe tbody tr th {\n",
              "        vertical-align: top;\n",
              "    }\n",
              "\n",
              "    .dataframe thead th {\n",
              "        text-align: right;\n",
              "    }\n",
              "</style>\n",
              "<table border=\"1\" class=\"dataframe\">\n",
              "  <thead>\n",
              "    <tr style=\"text-align: right;\">\n",
              "      <th></th>\n",
              "      <th>date</th>\n",
              "      <th>open</th>\n",
              "      <th>high</th>\n",
              "      <th>low</th>\n",
              "      <th>close</th>\n",
              "      <th>volume</th>\n",
              "      <th>Name</th>\n",
              "      <th>PrevClose</th>\n",
              "      <th>Return</th>\n",
              "    </tr>\n",
              "  </thead>\n",
              "  <tbody>\n",
              "    <tr>\n",
              "      <th>0</th>\n",
              "      <td>2013-02-08</td>\n",
              "      <td>27.920</td>\n",
              "      <td>28.325</td>\n",
              "      <td>27.920</td>\n",
              "      <td>28.185</td>\n",
              "      <td>7146296</td>\n",
              "      <td>SBUX</td>\n",
              "      <td>NaN</td>\n",
              "      <td>NaN</td>\n",
              "    </tr>\n",
              "    <tr>\n",
              "      <th>1</th>\n",
              "      <td>2013-02-11</td>\n",
              "      <td>28.260</td>\n",
              "      <td>28.260</td>\n",
              "      <td>27.930</td>\n",
              "      <td>28.070</td>\n",
              "      <td>5457354</td>\n",
              "      <td>SBUX</td>\n",
              "      <td>28.185</td>\n",
              "      <td>-0.004080</td>\n",
              "    </tr>\n",
              "    <tr>\n",
              "      <th>2</th>\n",
              "      <td>2013-02-12</td>\n",
              "      <td>28.000</td>\n",
              "      <td>28.275</td>\n",
              "      <td>27.975</td>\n",
              "      <td>28.130</td>\n",
              "      <td>8665592</td>\n",
              "      <td>SBUX</td>\n",
              "      <td>28.070</td>\n",
              "      <td>0.002138</td>\n",
              "    </tr>\n",
              "    <tr>\n",
              "      <th>3</th>\n",
              "      <td>2013-02-13</td>\n",
              "      <td>28.230</td>\n",
              "      <td>28.230</td>\n",
              "      <td>27.750</td>\n",
              "      <td>27.915</td>\n",
              "      <td>7022056</td>\n",
              "      <td>SBUX</td>\n",
              "      <td>28.130</td>\n",
              "      <td>-0.007643</td>\n",
              "    </tr>\n",
              "    <tr>\n",
              "      <th>4</th>\n",
              "      <td>2013-02-14</td>\n",
              "      <td>27.765</td>\n",
              "      <td>27.905</td>\n",
              "      <td>27.675</td>\n",
              "      <td>27.775</td>\n",
              "      <td>8899188</td>\n",
              "      <td>SBUX</td>\n",
              "      <td>27.915</td>\n",
              "      <td>-0.005015</td>\n",
              "    </tr>\n",
              "  </tbody>\n",
              "</table>\n",
              "</div>"
            ],
            "text/plain": [
              "         date    open    high     low  ...   volume  Name PrevClose    Return\n",
              "0  2013-02-08  27.920  28.325  27.920  ...  7146296  SBUX       NaN       NaN\n",
              "1  2013-02-11  28.260  28.260  27.930  ...  5457354  SBUX    28.185 -0.004080\n",
              "2  2013-02-12  28.000  28.275  27.975  ...  8665592  SBUX    28.070  0.002138\n",
              "3  2013-02-13  28.230  28.230  27.750  ...  7022056  SBUX    28.130 -0.007643\n",
              "4  2013-02-14  27.765  27.905  27.675  ...  8899188  SBUX    27.915 -0.005015\n",
              "\n",
              "[5 rows x 9 columns]"
            ]
          },
          "metadata": {
            "tags": []
          },
          "execution_count": 16
        }
      ]
    },
    {
      "cell_type": "code",
      "metadata": {
        "id": "cMr08ugZCMoS",
        "colab_type": "code",
        "outputId": "62e7116c-5421-42d1-b7b0-557e157ca98b",
        "colab": {
          "base_uri": "https://localhost:8080/",
          "height": 282
        }
      },
      "source": [
        "# Now let's try an LSTM to predict returns\n",
        "df['Return'].hist()"
      ],
      "execution_count": 17,
      "outputs": [
        {
          "output_type": "execute_result",
          "data": {
            "text/plain": [
              "<matplotlib.axes._subplots.AxesSubplot at 0x7f8d1bdaa518>"
            ]
          },
          "metadata": {
            "tags": []
          },
          "execution_count": 17
        },
        {
          "output_type": "display_data",
          "data": {
            "image/png": "[encoded data removed]",
            "text/plain": [
              "<Figure size 432x288 with 1 Axes>"
            ]
          },
          "metadata": {
            "tags": []
          }
        }
      ]
    },
    {
      "cell_type": "code",
      "metadata": {
        "id": "SsdCmMW-CmBr",
        "colab_type": "code",
        "colab": {}
      },
      "source": [
        "series = df['Return'].values[1:].reshape(-1, 1)\n",
        "\n",
        "# Normalize the data\n",
        "# Note: I didn't think about where the true boundary is, this is just approx.\n",
        "scaler = StandardScaler()\n",
        "scaler.fit(series[:len(series) // 2])\n",
        "series = scaler.transform(series).flatten()\n"
      ],
      "execution_count": 0,
      "outputs": []
    },
    {
      "cell_type": "code",
      "metadata": {
        "id": "sq9AaVQODLXu",
        "colab_type": "code",
        "outputId": "256ef616-9865-4a21-a99d-17167c598e8e",
        "colab": {
          "base_uri": "https://localhost:8080/",
          "height": 34
        }
      },
      "source": [
        "## build the data set\n",
        "# let's see if we can use T past values to predict the next value\n",
        "\n",
        "T = 10\n",
        "D = 1\n",
        "X = []\n",
        "Y = []\n",
        "for t in range(len(series) - T):\n",
        "  x = series[t:t+T]\n",
        "  X.append(x)\n",
        "  y = series[t+T]\n",
        "  Y.append(y)\n",
        "\n",
        "X = np.array(X).reshape(-1, T, 1) #Now the data should be N x T x D\n",
        "Y = np.array(Y)\n",
        "N = len(X)\n",
        "print(\"X.shape\", X.shape, \"Y.shape\", Y.shape)"
      ],
      "execution_count": 19,
      "outputs": [
        {
          "output_type": "stream",
          "text": [
            "X.shape (1248, 10, 1) Y.shape (1248,)\n"
          ],
          "name": "stdout"
        }
      ]
    },
    {
      "cell_type": "code",
      "metadata": {
        "id": "dT17QeyUEUIi",
        "colab_type": "code",
        "outputId": "58da5be2-3f78-41cb-cd56-8e6e870c3b99",
        "colab": {
          "base_uri": "https://localhost:8080/",
          "height": 1000
        }
      },
      "source": [
        "### trying the Autogressive RNN model\n",
        "i = Input(shape=(T, 1))\n",
        "x = LSTM(5)(i)\n",
        "x = Dense(1)(x)\n",
        "model = Model(i, x)\n",
        "model.compile(\n",
        "    loss='mse',\n",
        "    optimizer=Adam(lr=0.01),\n",
        ")\n",
        "\n",
        "#train the RNN\n",
        "r = model.fit(\n",
        "    X[:-N//2], Y[:-N//2],\n",
        "    epochs=80,\n",
        "    validation_data=(X[-N//2:], Y[-N//2:]),\n",
        ")"
      ],
      "execution_count": 20,
      "outputs": [
        {
          "output_type": "stream",
          "text": [
            "Train on 624 samples, validate on 624 samples\n",
            "Epoch 1/80\n",
            "624/624 [==============================] - 2s 2ms/sample - loss: 0.9985 - val_loss: 1.1325\n",
            "Epoch 2/80\n",
            "624/624 [==============================] - 0s 306us/sample - loss: 0.9896 - val_loss: 1.1439\n",
            "Epoch 3/80\n",
            "624/624 [==============================] - 0s 281us/sample - loss: 0.9919 - val_loss: 1.1356\n",
            "Epoch 4/80\n",
            "624/624 [==============================] - 0s 311us/sample - loss: 0.9901 - val_loss: 1.1613\n",
            "Epoch 5/80\n",
            "624/624 [==============================] - 0s 326us/sample - loss: 0.9832 - val_loss: 1.1404\n",
            "Epoch 6/80\n",
            "624/624 [==============================] - 0s 304us/sample - loss: 0.9842 - val_loss: 1.1527\n",
            "Epoch 7/80\n",
            "624/624 [==============================] - 0s 293us/sample - loss: 0.9832 - val_loss: 1.1480\n",
            "Epoch 8/80\n",
            "624/624 [==============================] - 0s 301us/sample - loss: 0.9845 - val_loss: 1.1498\n",
            "Epoch 9/80\n",
            "624/624 [==============================] - 0s 299us/sample - loss: 0.9813 - val_loss: 1.1575\n",
            "Epoch 10/80\n",
            "624/624 [==============================] - 0s 285us/sample - loss: 0.9786 - val_loss: 1.1507\n",
            "Epoch 11/80\n",
            "624/624 [==============================] - 0s 294us/sample - loss: 0.9777 - val_loss: 1.1461\n",
            "Epoch 12/80\n",
            "624/624 [==============================] - 0s 280us/sample - loss: 0.9790 - val_loss: 1.1527\n",
            "Epoch 13/80\n",
            "624/624 [==============================] - 0s 293us/sample - loss: 0.9766 - val_loss: 1.1581\n",
            "Epoch 14/80\n",
            "624/624 [==============================] - 0s 321us/sample - loss: 0.9723 - val_loss: 1.1574\n",
            "Epoch 15/80\n",
            "624/624 [==============================] - 0s 281us/sample - loss: 0.9705 - val_loss: 1.1593\n",
            "Epoch 16/80\n",
            "624/624 [==============================] - 0s 317us/sample - loss: 0.9668 - val_loss: 1.1692\n",
            "Epoch 17/80\n",
            "624/624 [==============================] - 0s 330us/sample - loss: 0.9673 - val_loss: 1.1671\n",
            "Epoch 18/80\n",
            "624/624 [==============================] - 0s 335us/sample - loss: 0.9596 - val_loss: 1.1776\n",
            "Epoch 19/80\n",
            "624/624 [==============================] - 0s 309us/sample - loss: 0.9573 - val_loss: 1.1868\n",
            "Epoch 20/80\n",
            "624/624 [==============================] - 0s 294us/sample - loss: 0.9513 - val_loss: 1.2002\n",
            "Epoch 21/80\n",
            "624/624 [==============================] - 0s 263us/sample - loss: 0.9446 - val_loss: 1.2088\n",
            "Epoch 22/80\n",
            "624/624 [==============================] - 0s 261us/sample - loss: 0.9368 - val_loss: 1.2247\n",
            "Epoch 23/80\n",
            "624/624 [==============================] - 0s 291us/sample - loss: 0.9338 - val_loss: 1.2384\n",
            "Epoch 24/80\n",
            "624/624 [==============================] - 0s 279us/sample - loss: 0.9217 - val_loss: 1.2393\n",
            "Epoch 25/80\n",
            "624/624 [==============================] - 0s 280us/sample - loss: 0.9206 - val_loss: 1.2479\n",
            "Epoch 26/80\n",
            "624/624 [==============================] - 0s 419us/sample - loss: 0.9233 - val_loss: 1.2582\n",
            "Epoch 27/80\n",
            "624/624 [==============================] - 0s 327us/sample - loss: 0.9098 - val_loss: 1.2720\n",
            "Epoch 28/80\n",
            "624/624 [==============================] - 0s 288us/sample - loss: 0.9074 - val_loss: 1.2630\n",
            "Epoch 29/80\n",
            "624/624 [==============================] - 0s 283us/sample - loss: 0.9058 - val_loss: 1.2845\n",
            "Epoch 30/80\n",
            "624/624 [==============================] - 0s 255us/sample - loss: 0.8947 - val_loss: 1.2849\n",
            "Epoch 31/80\n",
            "624/624 [==============================] - 0s 268us/sample - loss: 0.8995 - val_loss: 1.2574\n",
            "Epoch 32/80\n",
            "624/624 [==============================] - 0s 258us/sample - loss: 0.8959 - val_loss: 1.2820\n",
            "Epoch 33/80\n",
            "624/624 [==============================] - 0s 254us/sample - loss: 0.8822 - val_loss: 1.2626\n",
            "Epoch 34/80\n",
            "624/624 [==============================] - 0s 266us/sample - loss: 0.8794 - val_loss: 1.2775\n",
            "Epoch 35/80\n",
            "624/624 [==============================] - 0s 227us/sample - loss: 0.8758 - val_loss: 1.2825\n",
            "Epoch 36/80\n",
            "624/624 [==============================] - 0s 235us/sample - loss: 0.8664 - val_loss: 1.2825\n",
            "Epoch 37/80\n",
            "624/624 [==============================] - 0s 270us/sample - loss: 0.8579 - val_loss: 1.2828\n",
            "Epoch 38/80\n",
            "624/624 [==============================] - 0s 288us/sample - loss: 0.8621 - val_loss: 1.2795\n",
            "Epoch 39/80\n",
            "624/624 [==============================] - 0s 292us/sample - loss: 0.8502 - val_loss: 1.2838\n",
            "Epoch 40/80\n",
            "624/624 [==============================] - 0s 286us/sample - loss: 0.8458 - val_loss: 1.2839\n",
            "Epoch 41/80\n",
            "624/624 [==============================] - 0s 269us/sample - loss: 0.8414 - val_loss: 1.3011\n",
            "Epoch 42/80\n",
            "624/624 [==============================] - 0s 264us/sample - loss: 0.8338 - val_loss: 1.3086\n",
            "Epoch 43/80\n",
            "624/624 [==============================] - 0s 298us/sample - loss: 0.8290 - val_loss: 1.3236\n",
            "Epoch 44/80\n",
            "624/624 [==============================] - 0s 270us/sample - loss: 0.8185 - val_loss: 1.3088\n",
            "Epoch 45/80\n",
            "624/624 [==============================] - 0s 268us/sample - loss: 0.8194 - val_loss: 1.3198\n",
            "Epoch 46/80\n",
            "624/624 [==============================] - 0s 285us/sample - loss: 0.8069 - val_loss: 1.3501\n",
            "Epoch 47/80\n",
            "624/624 [==============================] - 0s 270us/sample - loss: 0.8157 - val_loss: 1.3189\n",
            "Epoch 48/80\n",
            "624/624 [==============================] - 0s 291us/sample - loss: 0.8133 - val_loss: 1.3494\n",
            "Epoch 49/80\n",
            "624/624 [==============================] - 0s 273us/sample - loss: 0.8033 - val_loss: 1.3260\n",
            "Epoch 50/80\n",
            "624/624 [==============================] - 0s 298us/sample - loss: 0.7942 - val_loss: 1.3366\n",
            "Epoch 51/80\n",
            "624/624 [==============================] - 0s 266us/sample - loss: 0.7915 - val_loss: 1.3456\n",
            "Epoch 52/80\n",
            "624/624 [==============================] - 0s 237us/sample - loss: 0.7927 - val_loss: 1.3322\n",
            "Epoch 53/80\n",
            "624/624 [==============================] - 0s 233us/sample - loss: 0.7872 - val_loss: 1.4094\n",
            "Epoch 54/80\n",
            "624/624 [==============================] - 0s 282us/sample - loss: 0.8175 - val_loss: 1.3392\n",
            "Epoch 55/80\n",
            "624/624 [==============================] - 0s 247us/sample - loss: 0.8152 - val_loss: 1.4297\n",
            "Epoch 56/80\n",
            "624/624 [==============================] - 0s 258us/sample - loss: 0.7775 - val_loss: 1.3613\n",
            "Epoch 57/80\n",
            "624/624 [==============================] - 0s 248us/sample - loss: 0.7709 - val_loss: 1.3805\n",
            "Epoch 58/80\n",
            "624/624 [==============================] - 0s 257us/sample - loss: 0.7677 - val_loss: 1.3547\n",
            "Epoch 59/80\n",
            "624/624 [==============================] - 0s 301us/sample - loss: 0.7835 - val_loss: 1.4251\n",
            "Epoch 60/80\n",
            "624/624 [==============================] - 0s 287us/sample - loss: 0.7752 - val_loss: 1.3853\n",
            "Epoch 61/80\n",
            "624/624 [==============================] - 0s 270us/sample - loss: 0.7595 - val_loss: 1.3981\n",
            "Epoch 62/80\n",
            "624/624 [==============================] - 0s 282us/sample - loss: 0.7732 - val_loss: 1.4235\n",
            "Epoch 63/80\n",
            "624/624 [==============================] - 0s 262us/sample - loss: 0.7562 - val_loss: 1.4383\n",
            "Epoch 64/80\n",
            "624/624 [==============================] - 0s 267us/sample - loss: 0.7751 - val_loss: 1.3927\n",
            "Epoch 65/80\n",
            "624/624 [==============================] - 0s 260us/sample - loss: 0.7470 - val_loss: 1.4338\n",
            "Epoch 66/80\n",
            "624/624 [==============================] - 0s 302us/sample - loss: 0.7532 - val_loss: 1.3965\n",
            "Epoch 67/80\n",
            "624/624 [==============================] - 0s 260us/sample - loss: 0.7452 - val_loss: 1.4277\n",
            "Epoch 68/80\n",
            "624/624 [==============================] - 0s 254us/sample - loss: 0.7550 - val_loss: 1.4542\n",
            "Epoch 69/80\n",
            "624/624 [==============================] - 0s 254us/sample - loss: 0.7384 - val_loss: 1.4024\n",
            "Epoch 70/80\n",
            "624/624 [==============================] - 0s 272us/sample - loss: 0.7602 - val_loss: 1.4727\n",
            "Epoch 71/80\n",
            "624/624 [==============================] - 0s 271us/sample - loss: 0.7429 - val_loss: 1.4439\n",
            "Epoch 72/80\n",
            "624/624 [==============================] - 0s 309us/sample - loss: 0.7371 - val_loss: 1.4379\n",
            "Epoch 73/80\n",
            "624/624 [==============================] - 0s 286us/sample - loss: 0.7302 - val_loss: 1.4455\n",
            "Epoch 74/80\n",
            "624/624 [==============================] - 0s 254us/sample - loss: 0.7427 - val_loss: 1.4818\n",
            "Epoch 75/80\n",
            "624/624 [==============================] - 0s 302us/sample - loss: 0.7446 - val_loss: 1.4528\n",
            "Epoch 76/80\n",
            "624/624 [==============================] - 0s 283us/sample - loss: 0.7395 - val_loss: 1.4683\n",
            "Epoch 77/80\n",
            "624/624 [==============================] - 0s 260us/sample - loss: 0.7471 - val_loss: 1.4713\n",
            "Epoch 78/80\n",
            "624/624 [==============================] - 0s 247us/sample - loss: 0.7293 - val_loss: 1.4502\n",
            "Epoch 79/80\n",
            "624/624 [==============================] - 0s 238us/sample - loss: 0.7425 - val_loss: 1.4579\n",
            "Epoch 80/80\n",
            "624/624 [==============================] - 0s 281us/sample - loss: 0.7238 - val_loss: 1.4724\n"
          ],
          "name": "stdout"
        }
      ]
    },
    {
      "cell_type": "code",
      "metadata": {
        "id": "kj3-nwq9ySB4",
        "colab_type": "code",
        "outputId": "0a2b88ff-0137-4839-d93e-45bf205cad6f",
        "colab": {
          "base_uri": "https://localhost:8080/",
          "height": 282
        }
      },
      "source": [
        "#plot loss per iteration\n",
        "import matplotlib.pyplot as plt\n",
        "plt.plot(r.history['loss'], label='loss')\n",
        "plt.plot(r.history['val_loss'], label='val_loss')\n",
        "plt.legend()"
      ],
      "execution_count": 21,
      "outputs": [
        {
          "output_type": "execute_result",
          "data": {
            "text/plain": [
              "<matplotlib.legend.Legend at 0x7f8d0f3a0438>"
            ]
          },
          "metadata": {
            "tags": []
          },
          "execution_count": 21
        },
        {
          "output_type": "display_data",
          "data": {
            "image/png": "[encoded data removed]",
            "text/plain": [
              "<Figure size 432x288 with 1 Axes>"
            ]
          },
          "metadata": {
            "tags": []
          }
        }
      ]
    },
    {
      "cell_type": "code",
      "metadata": {
        "id": "3EcrS0gVzGmg",
        "colab_type": "code",
        "outputId": "b6165c1c-c8c7-4b3f-a279-357408779074",
        "colab": {
          "base_uri": "https://localhost:8080/",
          "height": 282
        }
      },
      "source": [
        "outputs = model.predict(X)\n",
        "print(outputs.shape)\n",
        "predictions = outputs[:,0]\n",
        "\n",
        "plt.plot(Y, label='targets')\n",
        "plt.plot(predictions, label='predictions')\n",
        "plt.legend()\n",
        "plt.show()\n"
      ],
      "execution_count": 22,
      "outputs": [
        {
          "output_type": "stream",
          "text": [
            "(1248, 1)\n"
          ],
          "name": "stdout"
        },
        {
          "output_type": "display_data",
          "data": {
            "image/png": "[encoded data removed]",
            "text/plain": [
              "<Figure size 432x288 with 1 Axes>"
            ]
          },
          "metadata": {
            "tags": []
          }
        }
      ]
    },
    {
      "cell_type": "code",
      "metadata": {
        "id": "Buolit7n1MKO",
        "colab_type": "code",
        "outputId": "464cd949-d3e4-4041-f9ce-27b221189b78",
        "colab": {
          "base_uri": "https://localhost:8080/",
          "height": 282
        }
      },
      "source": [
        "# multi=step forecast\n",
        "validation_target = Y[-N//2:]\n",
        "validation_predictions = []\n",
        "\n",
        "# last train input\n",
        "last_x = X[-N//2] #1 - D array of len T\n",
        "\n",
        "while len(validation_predictions) < len(validation_target):\n",
        "  p = model.predict(last_x.reshape(1, T , 1))[0,0] # 1x1 array -> scalar\n",
        "\n",
        "  #update the predictions list\n",
        "  validation_predictions.append(p)\n",
        "\n",
        "  #make the new input\n",
        "  last_x = np.roll(last_x, -1)\n",
        "  last_x[-1] = p\n",
        "\n",
        "plt.plot(validation_target, label='forecast target')\n",
        "plt.plot(validation_predictions, label='forecast prediction')\n",
        "plt.legend()\n"
      ],
      "execution_count": 23,
      "outputs": [
        {
          "output_type": "execute_result",
          "data": {
            "text/plain": [
              "<matplotlib.legend.Legend at 0x7f8d0f251e48>"
            ]
          },
          "metadata": {
            "tags": []
          },
          "execution_count": 23
        },
        {
          "output_type": "display_data",
          "data": {
            "image/png": "[encoded data removed]",
            "text/plain": [
              "<Figure size 432x288 with 1 Axes>"
            ]
          },
          "metadata": {
            "tags": []
          }
        }
      ]
    },
    {
      "cell_type": "code",
      "metadata": {
        "id": "lM1i6vSO3Ifd",
        "colab_type": "code",
        "colab": {}
      },
      "source": [
        "# Now turn the full data into a numpy array\n",
        "\n",
        "#not yet in the final X format\n",
        "\n",
        "input_data = df[['open','high','low','close','volume']].values\n",
        "targets = df['Return'].values"
      ],
      "execution_count": 0,
      "outputs": []
    },
    {
      "cell_type": "code",
      "metadata": {
        "id": "oD62a4Sf5IaF",
        "colab_type": "code",
        "colab": {}
      },
      "source": [
        "# Now make the actual data that will go into the neural networks\n",
        "T = 10 #the number of time steps to look at to make a prediction for the next day\n",
        "D = input_data.shape[1]\n",
        "N = len(input_data) - T #(e.g. if T=10 and you have 11 data points then you'd only have 1)\n",
        "\n",
        "Ntrain = len(input_data) * 2 // 3\n",
        "scaler = StandardScaler()\n",
        "scaler.fit(input_data[:Ntrain + T])\n",
        "input_data = scaler.transform(input_data)\n",
        "\n",
        "# set up X_train and Y_train\n",
        "X_train = np.zeros((Ntrain, T, D))\n",
        "Y_train = np.zeros(Ntrain)\n",
        "\n",
        "for t in range(Ntrain):\n",
        "  X_train[t, :, :] = input_data[t:t+T]\n",
        "  Y_train[t] = (targets[t+T] > 0)\n",
        "\n",
        "\n",
        "# Setup X_test and Y_test\n",
        "X_test = np.zeros((N - Ntrain, T, D))\n",
        "Y_test = np.zeros(N - Ntrain)\n",
        "\n",
        "for u in range(N - Ntrain):\n",
        "  # u counts from 0 . . . (N - Ntrain)\n",
        "  # X t counts from Ntrain  . N\n",
        "  t = u + Ntrain\n",
        "  X_test[u, :, :] = input_data[t:t+T]\n",
        "  Y_test[u] = (targets[t+T] > 0)\n"
      ],
      "execution_count": 0,
      "outputs": []
    },
    {
      "cell_type": "code",
      "metadata": {
        "id": "SI38eRhCg77y",
        "colab_type": "code",
        "colab": {}
      },
      "source": [
        "# make the RNN\n",
        "\n",
        "i = Input(shape=(T, D))\n",
        "x = LSTM(50)(i)\n",
        "x = Dense(1, activation='sigmoid')(x)\n",
        "model = Model(i,x)\n",
        "model.compile(\n",
        "    loss='binary_crossentropy',\n",
        "    optimizer=Adam(lr=0.001),\n",
        "    metrics=['accuracy']\n",
        ")"
      ],
      "execution_count": 0,
      "outputs": []
    },
    {
      "cell_type": "code",
      "metadata": {
        "id": "RICwIb3vS36m",
        "colab_type": "code",
        "colab": {
          "base_uri": "https://localhost:8080/",
          "height": 1000
        },
        "outputId": "1924eefe-893f-49d2-bb47-ba1b3df923d1"
      },
      "source": [
        "r = model.fit(\n",
        "    X_train, Y_train,\n",
        "    batch_size=32,\n",
        "    epochs=300,\n",
        "    validation_data=(X_test, Y_test),\n",
        ")"
      ],
      "execution_count": 38,
      "outputs": [
        {
          "output_type": "stream",
          "text": [
            "WARNING:tensorflow:From /usr/local/lib/python3.6/dist-packages/tensorflow/python/ops/math_grad.py:1250: add_dispatch_support.<locals>.wrapper (from tensorflow.python.ops.array_ops) is deprecated and will be removed in a future version.\n",
            "Instructions for updating:\n",
            "Use tf.where in 2.0, which has the same broadcast rule as np.where\n",
            "Train on 839 samples, validate on 410 samples\n",
            "Epoch 1/300\n",
            "839/839 [==============================] - 2s 2ms/sample - loss: 0.6949 - accuracy: 0.5066 - val_loss: 0.6953 - val_accuracy: 0.4951\n",
            "Epoch 2/300\n",
            "839/839 [==============================] - 0s 297us/sample - loss: 0.6918 - accuracy: 0.5089 - val_loss: 0.6962 - val_accuracy: 0.4927\n",
            "Epoch 3/300\n",
            "839/839 [==============================] - 0s 311us/sample - loss: 0.6919 - accuracy: 0.5244 - val_loss: 0.6959 - val_accuracy: 0.4927\n",
            "Epoch 4/300\n",
            "839/839 [==============================] - 0s 352us/sample - loss: 0.6918 - accuracy: 0.5244 - val_loss: 0.6937 - val_accuracy: 0.5000\n",
            "Epoch 5/300\n",
            "839/839 [==============================] - 0s 337us/sample - loss: 0.6928 - accuracy: 0.5268 - val_loss: 0.6958 - val_accuracy: 0.4951\n",
            "Epoch 6/300\n",
            "839/839 [==============================] - 0s 368us/sample - loss: 0.6911 - accuracy: 0.5221 - val_loss: 0.6918 - val_accuracy: 0.5146\n",
            "Epoch 7/300\n",
            "839/839 [==============================] - 0s 333us/sample - loss: 0.6899 - accuracy: 0.5364 - val_loss: 0.6936 - val_accuracy: 0.5024\n",
            "Epoch 8/300\n",
            "839/839 [==============================] - 0s 343us/sample - loss: 0.6893 - accuracy: 0.5304 - val_loss: 0.6931 - val_accuracy: 0.5073\n",
            "Epoch 9/300\n",
            "839/839 [==============================] - 0s 312us/sample - loss: 0.6882 - accuracy: 0.5483 - val_loss: 0.6906 - val_accuracy: 0.5415\n",
            "Epoch 10/300\n",
            "839/839 [==============================] - 0s 301us/sample - loss: 0.6895 - accuracy: 0.5352 - val_loss: 0.6953 - val_accuracy: 0.4854\n",
            "Epoch 11/300\n",
            "839/839 [==============================] - 0s 332us/sample - loss: 0.6891 - accuracy: 0.5447 - val_loss: 0.6909 - val_accuracy: 0.5317\n",
            "Epoch 12/300\n",
            "839/839 [==============================] - 0s 321us/sample - loss: 0.6888 - accuracy: 0.5387 - val_loss: 0.6980 - val_accuracy: 0.4878\n",
            "Epoch 13/300\n",
            "839/839 [==============================] - 0s 311us/sample - loss: 0.6897 - accuracy: 0.5292 - val_loss: 0.6926 - val_accuracy: 0.5049\n",
            "Epoch 14/300\n",
            "839/839 [==============================] - 0s 335us/sample - loss: 0.6892 - accuracy: 0.5161 - val_loss: 0.6969 - val_accuracy: 0.5000\n",
            "Epoch 15/300\n",
            "839/839 [==============================] - 0s 338us/sample - loss: 0.6886 - accuracy: 0.5280 - val_loss: 0.6925 - val_accuracy: 0.4927\n",
            "Epoch 16/300\n",
            "839/839 [==============================] - 0s 335us/sample - loss: 0.6870 - accuracy: 0.5495 - val_loss: 0.6950 - val_accuracy: 0.4878\n",
            "Epoch 17/300\n",
            "839/839 [==============================] - 0s 318us/sample - loss: 0.6867 - accuracy: 0.5411 - val_loss: 0.6944 - val_accuracy: 0.5049\n",
            "Epoch 18/300\n",
            "839/839 [==============================] - 0s 317us/sample - loss: 0.6870 - accuracy: 0.5483 - val_loss: 0.6929 - val_accuracy: 0.4976\n",
            "Epoch 19/300\n",
            "839/839 [==============================] - 0s 347us/sample - loss: 0.6868 - accuracy: 0.5352 - val_loss: 0.6939 - val_accuracy: 0.5000\n",
            "Epoch 20/300\n",
            "839/839 [==============================] - 0s 322us/sample - loss: 0.6866 - accuracy: 0.5459 - val_loss: 0.6912 - val_accuracy: 0.5195\n",
            "Epoch 21/300\n",
            "839/839 [==============================] - 0s 321us/sample - loss: 0.6850 - accuracy: 0.5554 - val_loss: 0.6913 - val_accuracy: 0.5220\n",
            "Epoch 22/300\n",
            "839/839 [==============================] - 0s 335us/sample - loss: 0.6855 - accuracy: 0.5518 - val_loss: 0.6949 - val_accuracy: 0.4951\n",
            "Epoch 23/300\n",
            "839/839 [==============================] - 0s 316us/sample - loss: 0.6880 - accuracy: 0.5399 - val_loss: 0.6936 - val_accuracy: 0.4927\n",
            "Epoch 24/300\n",
            "839/839 [==============================] - 0s 306us/sample - loss: 0.6864 - accuracy: 0.5495 - val_loss: 0.6950 - val_accuracy: 0.4951\n",
            "Epoch 25/300\n",
            "839/839 [==============================] - 0s 293us/sample - loss: 0.6847 - accuracy: 0.5530 - val_loss: 0.6928 - val_accuracy: 0.5098\n",
            "Epoch 26/300\n",
            "839/839 [==============================] - 0s 293us/sample - loss: 0.6844 - accuracy: 0.5495 - val_loss: 0.6950 - val_accuracy: 0.4829\n",
            "Epoch 27/300\n",
            "839/839 [==============================] - 0s 284us/sample - loss: 0.6844 - accuracy: 0.5626 - val_loss: 0.6943 - val_accuracy: 0.4976\n",
            "Epoch 28/300\n",
            "839/839 [==============================] - 0s 288us/sample - loss: 0.6834 - accuracy: 0.5769 - val_loss: 0.6913 - val_accuracy: 0.5415\n",
            "Epoch 29/300\n",
            "839/839 [==============================] - 0s 280us/sample - loss: 0.6847 - accuracy: 0.5602 - val_loss: 0.6933 - val_accuracy: 0.5146\n",
            "Epoch 30/300\n",
            "839/839 [==============================] - 0s 294us/sample - loss: 0.6831 - accuracy: 0.5685 - val_loss: 0.6978 - val_accuracy: 0.4829\n",
            "Epoch 31/300\n",
            "839/839 [==============================] - 0s 286us/sample - loss: 0.6830 - accuracy: 0.5566 - val_loss: 0.6952 - val_accuracy: 0.5024\n",
            "Epoch 32/300\n",
            "839/839 [==============================] - 0s 297us/sample - loss: 0.6820 - accuracy: 0.5769 - val_loss: 0.6966 - val_accuracy: 0.4854\n",
            "Epoch 33/300\n",
            "839/839 [==============================] - 0s 306us/sample - loss: 0.6811 - accuracy: 0.5662 - val_loss: 0.6973 - val_accuracy: 0.4829\n",
            "Epoch 34/300\n",
            "839/839 [==============================] - 0s 335us/sample - loss: 0.6829 - accuracy: 0.5662 - val_loss: 0.6959 - val_accuracy: 0.4976\n",
            "Epoch 35/300\n",
            "839/839 [==============================] - 0s 323us/sample - loss: 0.6821 - accuracy: 0.5673 - val_loss: 0.6964 - val_accuracy: 0.4976\n",
            "Epoch 36/300\n",
            "839/839 [==============================] - 0s 320us/sample - loss: 0.6796 - accuracy: 0.5650 - val_loss: 0.6969 - val_accuracy: 0.5024\n",
            "Epoch 37/300\n",
            "839/839 [==============================] - 0s 325us/sample - loss: 0.6789 - accuracy: 0.5650 - val_loss: 0.6935 - val_accuracy: 0.5244\n",
            "Epoch 38/300\n",
            "839/839 [==============================] - 0s 336us/sample - loss: 0.6789 - accuracy: 0.5709 - val_loss: 0.6942 - val_accuracy: 0.5146\n",
            "Epoch 39/300\n",
            "839/839 [==============================] - 0s 352us/sample - loss: 0.6811 - accuracy: 0.5638 - val_loss: 0.6948 - val_accuracy: 0.5122\n",
            "Epoch 40/300\n",
            "839/839 [==============================] - 0s 315us/sample - loss: 0.6772 - accuracy: 0.5650 - val_loss: 0.7013 - val_accuracy: 0.4976\n",
            "Epoch 41/300\n",
            "839/839 [==============================] - 0s 336us/sample - loss: 0.6781 - accuracy: 0.5602 - val_loss: 0.6971 - val_accuracy: 0.5024\n",
            "Epoch 42/300\n",
            "839/839 [==============================] - 0s 320us/sample - loss: 0.6775 - accuracy: 0.5685 - val_loss: 0.6988 - val_accuracy: 0.4854\n",
            "Epoch 43/300\n",
            "839/839 [==============================] - 0s 322us/sample - loss: 0.6774 - accuracy: 0.5673 - val_loss: 0.6951 - val_accuracy: 0.5171\n",
            "Epoch 44/300\n",
            "839/839 [==============================] - 0s 320us/sample - loss: 0.6759 - accuracy: 0.5757 - val_loss: 0.7005 - val_accuracy: 0.4756\n",
            "Epoch 45/300\n",
            "839/839 [==============================] - 0s 363us/sample - loss: 0.6769 - accuracy: 0.5650 - val_loss: 0.6942 - val_accuracy: 0.5293\n",
            "Epoch 46/300\n",
            "839/839 [==============================] - 0s 327us/sample - loss: 0.6760 - accuracy: 0.5709 - val_loss: 0.6968 - val_accuracy: 0.5171\n",
            "Epoch 47/300\n",
            "839/839 [==============================] - 0s 305us/sample - loss: 0.6754 - accuracy: 0.5590 - val_loss: 0.6995 - val_accuracy: 0.4927\n",
            "Epoch 48/300\n",
            "839/839 [==============================] - 0s 321us/sample - loss: 0.6766 - accuracy: 0.5626 - val_loss: 0.6990 - val_accuracy: 0.4951\n",
            "Epoch 49/300\n",
            "839/839 [==============================] - 0s 341us/sample - loss: 0.6751 - accuracy: 0.5673 - val_loss: 0.6991 - val_accuracy: 0.5146\n",
            "Epoch 50/300\n",
            "839/839 [==============================] - 0s 328us/sample - loss: 0.6731 - accuracy: 0.5650 - val_loss: 0.6966 - val_accuracy: 0.5146\n",
            "Epoch 51/300\n",
            "839/839 [==============================] - 0s 334us/sample - loss: 0.6713 - accuracy: 0.5757 - val_loss: 0.6977 - val_accuracy: 0.4976\n",
            "Epoch 52/300\n",
            "839/839 [==============================] - 0s 300us/sample - loss: 0.6720 - accuracy: 0.5709 - val_loss: 0.6981 - val_accuracy: 0.4951\n",
            "Epoch 53/300\n",
            "839/839 [==============================] - 0s 289us/sample - loss: 0.6701 - accuracy: 0.5697 - val_loss: 0.7011 - val_accuracy: 0.4902\n",
            "Epoch 54/300\n",
            "839/839 [==============================] - 0s 343us/sample - loss: 0.6726 - accuracy: 0.5733 - val_loss: 0.7026 - val_accuracy: 0.4902\n",
            "Epoch 55/300\n",
            "839/839 [==============================] - 0s 282us/sample - loss: 0.6731 - accuracy: 0.5769 - val_loss: 0.6999 - val_accuracy: 0.4756\n",
            "Epoch 56/300\n",
            "839/839 [==============================] - 0s 307us/sample - loss: 0.6694 - accuracy: 0.5721 - val_loss: 0.6966 - val_accuracy: 0.5293\n",
            "Epoch 57/300\n",
            "839/839 [==============================] - 0s 319us/sample - loss: 0.6697 - accuracy: 0.5793 - val_loss: 0.7020 - val_accuracy: 0.4878\n",
            "Epoch 58/300\n",
            "839/839 [==============================] - 0s 304us/sample - loss: 0.6679 - accuracy: 0.5721 - val_loss: 0.7012 - val_accuracy: 0.5098\n",
            "Epoch 59/300\n",
            "839/839 [==============================] - 0s 348us/sample - loss: 0.6681 - accuracy: 0.5757 - val_loss: 0.7033 - val_accuracy: 0.4854\n",
            "Epoch 60/300\n",
            "839/839 [==============================] - 0s 329us/sample - loss: 0.6677 - accuracy: 0.5757 - val_loss: 0.7083 - val_accuracy: 0.4927\n",
            "Epoch 61/300\n",
            "839/839 [==============================] - 0s 334us/sample - loss: 0.6642 - accuracy: 0.5900 - val_loss: 0.6999 - val_accuracy: 0.5024\n",
            "Epoch 62/300\n",
            "839/839 [==============================] - 0s 311us/sample - loss: 0.6643 - accuracy: 0.5709 - val_loss: 0.7023 - val_accuracy: 0.5000\n",
            "Epoch 63/300\n",
            "839/839 [==============================] - 0s 332us/sample - loss: 0.6659 - accuracy: 0.5816 - val_loss: 0.7044 - val_accuracy: 0.4927\n",
            "Epoch 64/300\n",
            "839/839 [==============================] - 0s 304us/sample - loss: 0.6634 - accuracy: 0.5888 - val_loss: 0.7092 - val_accuracy: 0.4927\n",
            "Epoch 65/300\n",
            "839/839 [==============================] - 0s 294us/sample - loss: 0.6637 - accuracy: 0.5876 - val_loss: 0.7062 - val_accuracy: 0.4927\n",
            "Epoch 66/300\n",
            "839/839 [==============================] - 0s 320us/sample - loss: 0.6605 - accuracy: 0.5816 - val_loss: 0.7038 - val_accuracy: 0.5098\n",
            "Epoch 67/300\n",
            "839/839 [==============================] - 0s 326us/sample - loss: 0.6616 - accuracy: 0.5948 - val_loss: 0.7047 - val_accuracy: 0.4829\n",
            "Epoch 68/300\n",
            "839/839 [==============================] - 0s 332us/sample - loss: 0.6578 - accuracy: 0.6019 - val_loss: 0.7093 - val_accuracy: 0.4756\n",
            "Epoch 69/300\n",
            "839/839 [==============================] - 0s 318us/sample - loss: 0.6596 - accuracy: 0.5995 - val_loss: 0.7117 - val_accuracy: 0.4805\n",
            "Epoch 70/300\n",
            "839/839 [==============================] - 0s 353us/sample - loss: 0.6580 - accuracy: 0.5936 - val_loss: 0.7069 - val_accuracy: 0.4902\n",
            "Epoch 71/300\n",
            "839/839 [==============================] - 0s 322us/sample - loss: 0.6610 - accuracy: 0.5959 - val_loss: 0.7123 - val_accuracy: 0.4756\n",
            "Epoch 72/300\n",
            "839/839 [==============================] - 0s 339us/sample - loss: 0.6537 - accuracy: 0.6043 - val_loss: 0.7161 - val_accuracy: 0.4805\n",
            "Epoch 73/300\n",
            "839/839 [==============================] - 0s 310us/sample - loss: 0.6508 - accuracy: 0.6079 - val_loss: 0.7150 - val_accuracy: 0.4829\n",
            "Epoch 74/300\n",
            "839/839 [==============================] - 0s 323us/sample - loss: 0.6492 - accuracy: 0.6162 - val_loss: 0.7165 - val_accuracy: 0.4805\n",
            "Epoch 75/300\n",
            "839/839 [==============================] - 0s 332us/sample - loss: 0.6508 - accuracy: 0.6055 - val_loss: 0.7127 - val_accuracy: 0.4854\n",
            "Epoch 76/300\n",
            "839/839 [==============================] - 0s 355us/sample - loss: 0.6474 - accuracy: 0.5959 - val_loss: 0.7151 - val_accuracy: 0.5122\n",
            "Epoch 77/300\n",
            "839/839 [==============================] - 0s 333us/sample - loss: 0.6453 - accuracy: 0.6103 - val_loss: 0.7170 - val_accuracy: 0.4659\n",
            "Epoch 78/300\n",
            "839/839 [==============================] - 0s 339us/sample - loss: 0.6459 - accuracy: 0.6067 - val_loss: 0.7193 - val_accuracy: 0.4659\n",
            "Epoch 79/300\n",
            "839/839 [==============================] - 0s 339us/sample - loss: 0.6426 - accuracy: 0.6150 - val_loss: 0.7236 - val_accuracy: 0.4610\n",
            "Epoch 80/300\n",
            "839/839 [==============================] - 0s 310us/sample - loss: 0.6486 - accuracy: 0.6091 - val_loss: 0.7248 - val_accuracy: 0.4756\n",
            "Epoch 81/300\n",
            "839/839 [==============================] - 0s 296us/sample - loss: 0.6425 - accuracy: 0.6257 - val_loss: 0.7243 - val_accuracy: 0.4512\n",
            "Epoch 82/300\n",
            "839/839 [==============================] - 0s 338us/sample - loss: 0.6426 - accuracy: 0.6222 - val_loss: 0.7249 - val_accuracy: 0.4951\n",
            "Epoch 83/300\n",
            "839/839 [==============================] - 0s 330us/sample - loss: 0.6397 - accuracy: 0.6186 - val_loss: 0.7309 - val_accuracy: 0.4561\n",
            "Epoch 84/300\n",
            "839/839 [==============================] - 0s 299us/sample - loss: 0.6366 - accuracy: 0.6293 - val_loss: 0.7316 - val_accuracy: 0.4732\n",
            "Epoch 85/300\n",
            "839/839 [==============================] - 0s 311us/sample - loss: 0.6406 - accuracy: 0.6222 - val_loss: 0.7324 - val_accuracy: 0.4561\n",
            "Epoch 86/300\n",
            "839/839 [==============================] - 0s 308us/sample - loss: 0.6341 - accuracy: 0.6305 - val_loss: 0.7381 - val_accuracy: 0.4659\n",
            "Epoch 87/300\n",
            "839/839 [==============================] - 0s 308us/sample - loss: 0.6354 - accuracy: 0.6365 - val_loss: 0.7342 - val_accuracy: 0.4537\n",
            "Epoch 88/300\n",
            "839/839 [==============================] - 0s 315us/sample - loss: 0.6318 - accuracy: 0.6281 - val_loss: 0.7425 - val_accuracy: 0.4341\n",
            "Epoch 89/300\n",
            "839/839 [==============================] - 0s 296us/sample - loss: 0.6309 - accuracy: 0.6448 - val_loss: 0.7475 - val_accuracy: 0.4537\n",
            "Epoch 90/300\n",
            "839/839 [==============================] - 0s 291us/sample - loss: 0.6275 - accuracy: 0.6293 - val_loss: 0.7468 - val_accuracy: 0.4878\n",
            "Epoch 91/300\n",
            "839/839 [==============================] - 0s 305us/sample - loss: 0.6275 - accuracy: 0.6222 - val_loss: 0.7456 - val_accuracy: 0.4561\n",
            "Epoch 92/300\n",
            "839/839 [==============================] - 0s 301us/sample - loss: 0.6244 - accuracy: 0.6400 - val_loss: 0.7535 - val_accuracy: 0.4463\n",
            "Epoch 93/300\n",
            "839/839 [==============================] - 0s 310us/sample - loss: 0.6243 - accuracy: 0.6377 - val_loss: 0.7537 - val_accuracy: 0.4463\n",
            "Epoch 94/300\n",
            "839/839 [==============================] - 0s 328us/sample - loss: 0.6237 - accuracy: 0.6389 - val_loss: 0.7623 - val_accuracy: 0.4902\n",
            "Epoch 95/300\n",
            "839/839 [==============================] - 0s 310us/sample - loss: 0.6239 - accuracy: 0.6281 - val_loss: 0.7512 - val_accuracy: 0.4585\n",
            "Epoch 96/300\n",
            "839/839 [==============================] - 0s 306us/sample - loss: 0.6337 - accuracy: 0.6246 - val_loss: 0.7500 - val_accuracy: 0.4585\n",
            "Epoch 97/300\n",
            "839/839 [==============================] - 0s 344us/sample - loss: 0.6210 - accuracy: 0.6567 - val_loss: 0.7493 - val_accuracy: 0.4512\n",
            "Epoch 98/300\n",
            "839/839 [==============================] - 0s 324us/sample - loss: 0.6171 - accuracy: 0.6591 - val_loss: 0.7603 - val_accuracy: 0.4683\n",
            "Epoch 99/300\n",
            "839/839 [==============================] - 0s 300us/sample - loss: 0.6145 - accuracy: 0.6508 - val_loss: 0.7607 - val_accuracy: 0.4634\n",
            "Epoch 100/300\n",
            "839/839 [==============================] - 0s 340us/sample - loss: 0.6110 - accuracy: 0.6508 - val_loss: 0.7669 - val_accuracy: 0.4634\n",
            "Epoch 101/300\n",
            "839/839 [==============================] - 0s 333us/sample - loss: 0.6094 - accuracy: 0.6293 - val_loss: 0.7750 - val_accuracy: 0.4585\n",
            "Epoch 102/300\n",
            "839/839 [==============================] - 0s 320us/sample - loss: 0.6144 - accuracy: 0.6436 - val_loss: 0.7658 - val_accuracy: 0.4610\n",
            "Epoch 103/300\n",
            "839/839 [==============================] - 0s 335us/sample - loss: 0.6155 - accuracy: 0.6472 - val_loss: 0.7763 - val_accuracy: 0.4488\n",
            "Epoch 104/300\n",
            "839/839 [==============================] - 0s 331us/sample - loss: 0.6088 - accuracy: 0.6472 - val_loss: 0.7674 - val_accuracy: 0.4634\n",
            "Epoch 105/300\n",
            "839/839 [==============================] - 0s 337us/sample - loss: 0.6081 - accuracy: 0.6400 - val_loss: 0.7655 - val_accuracy: 0.4488\n",
            "Epoch 106/300\n",
            "839/839 [==============================] - 0s 315us/sample - loss: 0.6030 - accuracy: 0.6508 - val_loss: 0.7700 - val_accuracy: 0.4610\n",
            "Epoch 107/300\n",
            "839/839 [==============================] - 0s 329us/sample - loss: 0.6017 - accuracy: 0.6591 - val_loss: 0.7768 - val_accuracy: 0.4512\n",
            "Epoch 108/300\n",
            "839/839 [==============================] - 0s 340us/sample - loss: 0.6050 - accuracy: 0.6424 - val_loss: 0.7728 - val_accuracy: 0.4585\n",
            "Epoch 109/300\n",
            "839/839 [==============================] - 0s 335us/sample - loss: 0.6002 - accuracy: 0.6603 - val_loss: 0.7790 - val_accuracy: 0.4780\n",
            "Epoch 110/300\n",
            "839/839 [==============================] - 0s 314us/sample - loss: 0.6017 - accuracy: 0.6448 - val_loss: 0.7778 - val_accuracy: 0.4439\n",
            "Epoch 111/300\n",
            "839/839 [==============================] - 0s 340us/sample - loss: 0.6001 - accuracy: 0.6603 - val_loss: 0.7749 - val_accuracy: 0.4561\n",
            "Epoch 112/300\n",
            "839/839 [==============================] - 0s 341us/sample - loss: 0.5979 - accuracy: 0.6663 - val_loss: 0.7847 - val_accuracy: 0.4683\n",
            "Epoch 113/300\n",
            "839/839 [==============================] - 0s 321us/sample - loss: 0.5913 - accuracy: 0.6651 - val_loss: 0.7861 - val_accuracy: 0.4683\n",
            "Epoch 114/300\n",
            "839/839 [==============================] - 0s 321us/sample - loss: 0.5895 - accuracy: 0.6770 - val_loss: 0.7929 - val_accuracy: 0.4878\n",
            "Epoch 115/300\n",
            "839/839 [==============================] - 0s 327us/sample - loss: 0.6079 - accuracy: 0.6472 - val_loss: 0.7888 - val_accuracy: 0.4707\n",
            "Epoch 116/300\n",
            "839/839 [==============================] - 0s 328us/sample - loss: 0.6022 - accuracy: 0.6579 - val_loss: 0.7832 - val_accuracy: 0.4878\n",
            "Epoch 117/300\n",
            "839/839 [==============================] - 0s 334us/sample - loss: 0.5809 - accuracy: 0.6853 - val_loss: 0.7783 - val_accuracy: 0.4659\n",
            "Epoch 118/300\n",
            "839/839 [==============================] - 0s 345us/sample - loss: 0.5887 - accuracy: 0.6698 - val_loss: 0.7938 - val_accuracy: 0.4756\n",
            "Epoch 119/300\n",
            "839/839 [==============================] - 0s 314us/sample - loss: 0.5787 - accuracy: 0.6663 - val_loss: 0.7958 - val_accuracy: 0.4634\n",
            "Epoch 120/300\n",
            "839/839 [==============================] - 0s 368us/sample - loss: 0.5739 - accuracy: 0.6877 - val_loss: 0.7944 - val_accuracy: 0.4780\n",
            "Epoch 121/300\n",
            "839/839 [==============================] - 0s 331us/sample - loss: 0.5741 - accuracy: 0.6675 - val_loss: 0.8003 - val_accuracy: 0.4683\n",
            "Epoch 122/300\n",
            "839/839 [==============================] - 0s 326us/sample - loss: 0.5747 - accuracy: 0.6758 - val_loss: 0.8010 - val_accuracy: 0.4732\n",
            "Epoch 123/300\n",
            "839/839 [==============================] - 0s 332us/sample - loss: 0.5764 - accuracy: 0.6663 - val_loss: 0.7894 - val_accuracy: 0.4585\n",
            "Epoch 124/300\n",
            "839/839 [==============================] - 0s 320us/sample - loss: 0.5725 - accuracy: 0.6865 - val_loss: 0.8013 - val_accuracy: 0.5000\n",
            "Epoch 125/300\n",
            "839/839 [==============================] - 0s 332us/sample - loss: 0.5653 - accuracy: 0.6865 - val_loss: 0.7857 - val_accuracy: 0.4488\n",
            "Epoch 126/300\n",
            "839/839 [==============================] - 0s 340us/sample - loss: 0.5691 - accuracy: 0.6758 - val_loss: 0.7959 - val_accuracy: 0.4756\n",
            "Epoch 127/300\n",
            "839/839 [==============================] - 0s 311us/sample - loss: 0.5611 - accuracy: 0.6865 - val_loss: 0.8023 - val_accuracy: 0.4732\n",
            "Epoch 128/300\n",
            "839/839 [==============================] - 0s 335us/sample - loss: 0.5561 - accuracy: 0.6865 - val_loss: 0.7901 - val_accuracy: 0.4780\n",
            "Epoch 129/300\n",
            "839/839 [==============================] - 0s 331us/sample - loss: 0.5560 - accuracy: 0.6877 - val_loss: 0.8064 - val_accuracy: 0.4780\n",
            "Epoch 130/300\n",
            "839/839 [==============================] - 0s 314us/sample - loss: 0.5576 - accuracy: 0.6841 - val_loss: 0.8147 - val_accuracy: 0.4756\n",
            "Epoch 131/300\n",
            "839/839 [==============================] - 0s 325us/sample - loss: 0.5566 - accuracy: 0.6901 - val_loss: 0.8016 - val_accuracy: 0.4537\n",
            "Epoch 132/300\n",
            "839/839 [==============================] - 0s 331us/sample - loss: 0.5504 - accuracy: 0.6889 - val_loss: 0.8141 - val_accuracy: 0.4805\n",
            "Epoch 133/300\n",
            "839/839 [==============================] - 0s 319us/sample - loss: 0.5466 - accuracy: 0.7020 - val_loss: 0.8286 - val_accuracy: 0.4951\n",
            "Epoch 134/300\n",
            "839/839 [==============================] - 0s 300us/sample - loss: 0.5528 - accuracy: 0.6925 - val_loss: 0.8029 - val_accuracy: 0.4683\n",
            "Epoch 135/300\n",
            "839/839 [==============================] - 0s 312us/sample - loss: 0.5436 - accuracy: 0.7068 - val_loss: 0.8145 - val_accuracy: 0.4683\n",
            "Epoch 136/300\n",
            "839/839 [==============================] - 0s 303us/sample - loss: 0.5405 - accuracy: 0.7128 - val_loss: 0.8162 - val_accuracy: 0.4829\n",
            "Epoch 137/300\n",
            "839/839 [==============================] - 0s 332us/sample - loss: 0.5373 - accuracy: 0.6996 - val_loss: 0.8150 - val_accuracy: 0.4927\n",
            "Epoch 138/300\n",
            "839/839 [==============================] - 0s 300us/sample - loss: 0.5314 - accuracy: 0.7199 - val_loss: 0.8184 - val_accuracy: 0.4683\n",
            "Epoch 139/300\n",
            "839/839 [==============================] - 0s 313us/sample - loss: 0.5314 - accuracy: 0.7044 - val_loss: 0.8197 - val_accuracy: 0.4683\n",
            "Epoch 140/300\n",
            "839/839 [==============================] - 0s 357us/sample - loss: 0.5349 - accuracy: 0.6996 - val_loss: 0.8387 - val_accuracy: 0.4976\n",
            "Epoch 141/300\n",
            "839/839 [==============================] - 0s 320us/sample - loss: 0.5279 - accuracy: 0.7187 - val_loss: 0.8322 - val_accuracy: 0.4756\n",
            "Epoch 142/300\n",
            "839/839 [==============================] - 0s 314us/sample - loss: 0.5237 - accuracy: 0.7211 - val_loss: 0.8412 - val_accuracy: 0.4732\n",
            "Epoch 143/300\n",
            "839/839 [==============================] - 0s 349us/sample - loss: 0.5249 - accuracy: 0.7104 - val_loss: 0.8285 - val_accuracy: 0.4878\n",
            "Epoch 144/300\n",
            "839/839 [==============================] - 0s 344us/sample - loss: 0.5182 - accuracy: 0.7211 - val_loss: 0.8334 - val_accuracy: 0.4902\n",
            "Epoch 145/300\n",
            "839/839 [==============================] - 0s 316us/sample - loss: 0.5137 - accuracy: 0.7128 - val_loss: 0.8479 - val_accuracy: 0.4927\n",
            "Epoch 146/300\n",
            "839/839 [==============================] - 0s 299us/sample - loss: 0.5072 - accuracy: 0.7414 - val_loss: 0.8600 - val_accuracy: 0.4902\n",
            "Epoch 147/300\n",
            "839/839 [==============================] - 0s 330us/sample - loss: 0.5154 - accuracy: 0.7306 - val_loss: 0.8482 - val_accuracy: 0.4854\n",
            "Epoch 148/300\n",
            "839/839 [==============================] - 0s 337us/sample - loss: 0.5217 - accuracy: 0.7306 - val_loss: 0.8470 - val_accuracy: 0.4780\n",
            "Epoch 149/300\n",
            "839/839 [==============================] - 0s 335us/sample - loss: 0.4991 - accuracy: 0.7390 - val_loss: 0.8418 - val_accuracy: 0.4829\n",
            "Epoch 150/300\n",
            "839/839 [==============================] - 0s 323us/sample - loss: 0.5166 - accuracy: 0.7247 - val_loss: 0.8435 - val_accuracy: 0.4878\n",
            "Epoch 151/300\n",
            "839/839 [==============================] - 0s 339us/sample - loss: 0.5090 - accuracy: 0.7342 - val_loss: 0.8500 - val_accuracy: 0.4561\n",
            "Epoch 152/300\n",
            "839/839 [==============================] - 0s 318us/sample - loss: 0.4932 - accuracy: 0.7497 - val_loss: 0.8341 - val_accuracy: 0.4756\n",
            "Epoch 153/300\n",
            "839/839 [==============================] - 0s 342us/sample - loss: 0.4947 - accuracy: 0.7330 - val_loss: 0.8512 - val_accuracy: 0.4829\n",
            "Epoch 154/300\n",
            "839/839 [==============================] - 0s 330us/sample - loss: 0.4930 - accuracy: 0.7390 - val_loss: 0.8529 - val_accuracy: 0.4659\n",
            "Epoch 155/300\n",
            "839/839 [==============================] - 0s 323us/sample - loss: 0.4873 - accuracy: 0.7461 - val_loss: 0.8756 - val_accuracy: 0.5000\n",
            "Epoch 156/300\n",
            "839/839 [==============================] - 0s 334us/sample - loss: 0.4813 - accuracy: 0.7569 - val_loss: 0.8429 - val_accuracy: 0.4927\n",
            "Epoch 157/300\n",
            "839/839 [==============================] - 0s 349us/sample - loss: 0.4871 - accuracy: 0.7449 - val_loss: 0.8593 - val_accuracy: 0.5000\n",
            "Epoch 158/300\n",
            "839/839 [==============================] - 0s 325us/sample - loss: 0.4776 - accuracy: 0.7509 - val_loss: 0.8688 - val_accuracy: 0.4756\n",
            "Epoch 159/300\n",
            "839/839 [==============================] - 0s 321us/sample - loss: 0.4817 - accuracy: 0.7545 - val_loss: 0.8451 - val_accuracy: 0.4878\n",
            "Epoch 160/300\n",
            "839/839 [==============================] - 0s 315us/sample - loss: 0.4652 - accuracy: 0.7735 - val_loss: 0.8578 - val_accuracy: 0.4732\n",
            "Epoch 161/300\n",
            "839/839 [==============================] - 0s 346us/sample - loss: 0.4687 - accuracy: 0.7557 - val_loss: 0.8618 - val_accuracy: 0.5000\n",
            "Epoch 162/300\n",
            "839/839 [==============================] - 0s 330us/sample - loss: 0.4650 - accuracy: 0.7533 - val_loss: 0.8825 - val_accuracy: 0.5098\n",
            "Epoch 163/300\n",
            "839/839 [==============================] - 0s 314us/sample - loss: 0.4626 - accuracy: 0.7580 - val_loss: 0.8821 - val_accuracy: 0.4854\n",
            "Epoch 164/300\n",
            "839/839 [==============================] - 0s 306us/sample - loss: 0.4577 - accuracy: 0.7795 - val_loss: 0.8870 - val_accuracy: 0.5024\n",
            "Epoch 165/300\n",
            "839/839 [==============================] - 0s 332us/sample - loss: 0.4530 - accuracy: 0.7771 - val_loss: 0.8884 - val_accuracy: 0.4756\n",
            "Epoch 166/300\n",
            "839/839 [==============================] - 0s 316us/sample - loss: 0.4477 - accuracy: 0.7831 - val_loss: 0.8884 - val_accuracy: 0.4976\n",
            "Epoch 167/300\n",
            "839/839 [==============================] - 0s 315us/sample - loss: 0.4448 - accuracy: 0.7914 - val_loss: 0.8940 - val_accuracy: 0.5024\n",
            "Epoch 168/300\n",
            "839/839 [==============================] - 0s 330us/sample - loss: 0.4438 - accuracy: 0.7914 - val_loss: 0.8949 - val_accuracy: 0.4854\n",
            "Epoch 169/300\n",
            "839/839 [==============================] - 0s 335us/sample - loss: 0.4429 - accuracy: 0.7831 - val_loss: 0.8805 - val_accuracy: 0.4805\n",
            "Epoch 170/300\n",
            "839/839 [==============================] - 0s 325us/sample - loss: 0.4390 - accuracy: 0.7938 - val_loss: 0.8766 - val_accuracy: 0.4976\n",
            "Epoch 171/300\n",
            "839/839 [==============================] - 0s 328us/sample - loss: 0.4371 - accuracy: 0.7878 - val_loss: 0.8991 - val_accuracy: 0.4951\n",
            "Epoch 172/300\n",
            "839/839 [==============================] - 0s 336us/sample - loss: 0.4278 - accuracy: 0.7914 - val_loss: 0.8930 - val_accuracy: 0.4854\n",
            "Epoch 173/300\n",
            "839/839 [==============================] - 0s 315us/sample - loss: 0.4357 - accuracy: 0.7807 - val_loss: 0.9165 - val_accuracy: 0.4902\n",
            "Epoch 174/300\n",
            "839/839 [==============================] - 0s 305us/sample - loss: 0.4278 - accuracy: 0.8010 - val_loss: 0.9178 - val_accuracy: 0.5073\n",
            "Epoch 175/300\n",
            "839/839 [==============================] - 0s 341us/sample - loss: 0.4289 - accuracy: 0.7914 - val_loss: 0.9225 - val_accuracy: 0.5146\n",
            "Epoch 176/300\n",
            "839/839 [==============================] - 0s 312us/sample - loss: 0.4227 - accuracy: 0.7914 - val_loss: 0.8969 - val_accuracy: 0.5073\n",
            "Epoch 177/300\n",
            "839/839 [==============================] - 0s 290us/sample - loss: 0.4103 - accuracy: 0.8141 - val_loss: 0.9099 - val_accuracy: 0.4927\n",
            "Epoch 178/300\n",
            "839/839 [==============================] - 0s 312us/sample - loss: 0.4087 - accuracy: 0.8117 - val_loss: 0.9134 - val_accuracy: 0.5000\n",
            "Epoch 179/300\n",
            "839/839 [==============================] - 0s 294us/sample - loss: 0.4005 - accuracy: 0.8093 - val_loss: 0.9131 - val_accuracy: 0.4854\n",
            "Epoch 180/300\n",
            "839/839 [==============================] - 0s 340us/sample - loss: 0.4040 - accuracy: 0.8093 - val_loss: 0.9284 - val_accuracy: 0.4854\n",
            "Epoch 181/300\n",
            "839/839 [==============================] - 0s 325us/sample - loss: 0.3978 - accuracy: 0.8093 - val_loss: 0.9204 - val_accuracy: 0.5024\n",
            "Epoch 182/300\n",
            "839/839 [==============================] - 0s 320us/sample - loss: 0.3943 - accuracy: 0.8212 - val_loss: 0.9378 - val_accuracy: 0.5049\n",
            "Epoch 183/300\n",
            "839/839 [==============================] - 0s 293us/sample - loss: 0.3913 - accuracy: 0.8248 - val_loss: 0.9410 - val_accuracy: 0.4927\n",
            "Epoch 184/300\n",
            "839/839 [==============================] - 0s 304us/sample - loss: 0.3871 - accuracy: 0.8296 - val_loss: 0.9460 - val_accuracy: 0.5049\n",
            "Epoch 185/300\n",
            "839/839 [==============================] - 0s 329us/sample - loss: 0.3854 - accuracy: 0.8260 - val_loss: 0.9505 - val_accuracy: 0.5122\n",
            "Epoch 186/300\n",
            "839/839 [==============================] - 0s 336us/sample - loss: 0.3869 - accuracy: 0.8224 - val_loss: 0.9492 - val_accuracy: 0.5146\n",
            "Epoch 187/300\n",
            "839/839 [==============================] - 0s 333us/sample - loss: 0.3814 - accuracy: 0.8224 - val_loss: 0.9526 - val_accuracy: 0.5000\n",
            "Epoch 188/300\n",
            "839/839 [==============================] - 0s 342us/sample - loss: 0.3783 - accuracy: 0.8236 - val_loss: 0.9708 - val_accuracy: 0.5098\n",
            "Epoch 189/300\n",
            "839/839 [==============================] - 0s 321us/sample - loss: 0.3780 - accuracy: 0.8236 - val_loss: 0.9482 - val_accuracy: 0.4976\n",
            "Epoch 190/300\n",
            "839/839 [==============================] - 0s 330us/sample - loss: 0.3730 - accuracy: 0.8272 - val_loss: 0.9541 - val_accuracy: 0.5098\n",
            "Epoch 191/300\n",
            "839/839 [==============================] - 0s 328us/sample - loss: 0.3703 - accuracy: 0.8284 - val_loss: 0.9751 - val_accuracy: 0.4756\n",
            "Epoch 192/300\n",
            "839/839 [==============================] - 0s 328us/sample - loss: 0.3919 - accuracy: 0.8141 - val_loss: 0.9776 - val_accuracy: 0.5073\n",
            "Epoch 193/300\n",
            "839/839 [==============================] - 0s 329us/sample - loss: 0.3756 - accuracy: 0.8224 - val_loss: 0.9695 - val_accuracy: 0.4756\n",
            "Epoch 194/300\n",
            "839/839 [==============================] - 0s 319us/sample - loss: 0.3616 - accuracy: 0.8367 - val_loss: 0.9787 - val_accuracy: 0.5000\n",
            "Epoch 195/300\n",
            "839/839 [==============================] - 0s 331us/sample - loss: 0.3670 - accuracy: 0.8319 - val_loss: 0.9842 - val_accuracy: 0.5122\n",
            "Epoch 196/300\n",
            "839/839 [==============================] - 0s 305us/sample - loss: 0.3545 - accuracy: 0.8391 - val_loss: 0.9905 - val_accuracy: 0.4805\n",
            "Epoch 197/300\n",
            "839/839 [==============================] - 0s 365us/sample - loss: 0.3580 - accuracy: 0.8367 - val_loss: 0.9695 - val_accuracy: 0.4805\n",
            "Epoch 198/300\n",
            "839/839 [==============================] - 0s 320us/sample - loss: 0.3402 - accuracy: 0.8415 - val_loss: 1.0135 - val_accuracy: 0.5171\n",
            "Epoch 199/300\n",
            "839/839 [==============================] - 0s 325us/sample - loss: 0.3454 - accuracy: 0.8451 - val_loss: 0.9876 - val_accuracy: 0.4902\n",
            "Epoch 200/300\n",
            "839/839 [==============================] - 0s 306us/sample - loss: 0.3382 - accuracy: 0.8474 - val_loss: 0.9951 - val_accuracy: 0.5122\n",
            "Epoch 201/300\n",
            "839/839 [==============================] - 0s 328us/sample - loss: 0.3409 - accuracy: 0.8510 - val_loss: 1.0206 - val_accuracy: 0.4927\n",
            "Epoch 202/300\n",
            "839/839 [==============================] - 0s 325us/sample - loss: 0.3357 - accuracy: 0.8462 - val_loss: 1.0026 - val_accuracy: 0.4829\n",
            "Epoch 203/300\n",
            "839/839 [==============================] - 0s 330us/sample - loss: 0.3238 - accuracy: 0.8641 - val_loss: 1.0443 - val_accuracy: 0.5098\n",
            "Epoch 204/300\n",
            "839/839 [==============================] - 0s 315us/sample - loss: 0.3431 - accuracy: 0.8427 - val_loss: 0.9965 - val_accuracy: 0.4854\n",
            "Epoch 205/300\n",
            "839/839 [==============================] - 0s 350us/sample - loss: 0.3281 - accuracy: 0.8439 - val_loss: 1.0314 - val_accuracy: 0.4805\n",
            "Epoch 206/300\n",
            "839/839 [==============================] - 0s 350us/sample - loss: 0.3206 - accuracy: 0.8594 - val_loss: 1.0248 - val_accuracy: 0.4829\n",
            "Epoch 207/300\n",
            "839/839 [==============================] - 0s 317us/sample - loss: 0.3172 - accuracy: 0.8570 - val_loss: 1.0369 - val_accuracy: 0.5024\n",
            "Epoch 208/300\n",
            "839/839 [==============================] - 0s 330us/sample - loss: 0.3191 - accuracy: 0.8570 - val_loss: 1.0373 - val_accuracy: 0.4732\n",
            "Epoch 209/300\n",
            "839/839 [==============================] - 0s 322us/sample - loss: 0.3148 - accuracy: 0.8546 - val_loss: 1.0482 - val_accuracy: 0.4976\n",
            "Epoch 210/300\n",
            "839/839 [==============================] - 0s 344us/sample - loss: 0.3059 - accuracy: 0.8677 - val_loss: 1.0473 - val_accuracy: 0.4878\n",
            "Epoch 211/300\n",
            "839/839 [==============================] - 0s 301us/sample - loss: 0.3212 - accuracy: 0.8522 - val_loss: 1.0255 - val_accuracy: 0.4780\n",
            "Epoch 212/300\n",
            "839/839 [==============================] - 0s 303us/sample - loss: 0.3014 - accuracy: 0.8677 - val_loss: 1.0674 - val_accuracy: 0.5098\n",
            "Epoch 213/300\n",
            "839/839 [==============================] - 0s 314us/sample - loss: 0.3025 - accuracy: 0.8677 - val_loss: 1.0366 - val_accuracy: 0.4683\n",
            "Epoch 214/300\n",
            "839/839 [==============================] - 0s 318us/sample - loss: 0.3107 - accuracy: 0.8582 - val_loss: 1.0459 - val_accuracy: 0.4854\n",
            "Epoch 215/300\n",
            "839/839 [==============================] - 0s 319us/sample - loss: 0.3008 - accuracy: 0.8784 - val_loss: 1.0643 - val_accuracy: 0.4976\n",
            "Epoch 216/300\n",
            "839/839 [==============================] - 0s 315us/sample - loss: 0.3006 - accuracy: 0.8594 - val_loss: 1.0761 - val_accuracy: 0.4780\n",
            "Epoch 217/300\n",
            "839/839 [==============================] - 0s 339us/sample - loss: 0.2866 - accuracy: 0.8725 - val_loss: 1.0673 - val_accuracy: 0.5024\n",
            "Epoch 218/300\n",
            "839/839 [==============================] - 0s 299us/sample - loss: 0.2807 - accuracy: 0.8832 - val_loss: 1.0915 - val_accuracy: 0.4927\n",
            "Epoch 219/300\n",
            "839/839 [==============================] - 0s 297us/sample - loss: 0.2775 - accuracy: 0.8868 - val_loss: 1.0772 - val_accuracy: 0.5073\n",
            "Epoch 220/300\n",
            "839/839 [==============================] - 0s 341us/sample - loss: 0.2725 - accuracy: 0.8903 - val_loss: 1.1009 - val_accuracy: 0.4976\n",
            "Epoch 221/300\n",
            "839/839 [==============================] - 0s 299us/sample - loss: 0.2749 - accuracy: 0.8725 - val_loss: 1.0986 - val_accuracy: 0.4951\n",
            "Epoch 222/300\n",
            "839/839 [==============================] - 0s 302us/sample - loss: 0.2791 - accuracy: 0.8808 - val_loss: 1.1013 - val_accuracy: 0.5122\n",
            "Epoch 223/300\n",
            "839/839 [==============================] - 0s 327us/sample - loss: 0.2742 - accuracy: 0.8820 - val_loss: 1.1084 - val_accuracy: 0.5000\n",
            "Epoch 224/300\n",
            "839/839 [==============================] - 0s 337us/sample - loss: 0.2636 - accuracy: 0.8915 - val_loss: 1.1119 - val_accuracy: 0.4854\n",
            "Epoch 225/300\n",
            "839/839 [==============================] - 0s 328us/sample - loss: 0.2689 - accuracy: 0.8820 - val_loss: 1.1247 - val_accuracy: 0.5049\n",
            "Epoch 226/300\n",
            "839/839 [==============================] - 0s 346us/sample - loss: 0.2598 - accuracy: 0.8892 - val_loss: 1.1209 - val_accuracy: 0.4927\n",
            "Epoch 227/300\n",
            "839/839 [==============================] - 0s 330us/sample - loss: 0.2589 - accuracy: 0.8832 - val_loss: 1.1190 - val_accuracy: 0.4878\n",
            "Epoch 228/300\n",
            "839/839 [==============================] - 0s 325us/sample - loss: 0.2632 - accuracy: 0.8784 - val_loss: 1.1068 - val_accuracy: 0.4902\n",
            "Epoch 229/300\n",
            "839/839 [==============================] - 0s 332us/sample - loss: 0.2517 - accuracy: 0.8915 - val_loss: 1.1425 - val_accuracy: 0.4878\n",
            "Epoch 230/300\n",
            "839/839 [==============================] - 0s 327us/sample - loss: 0.2582 - accuracy: 0.8868 - val_loss: 1.1488 - val_accuracy: 0.5098\n",
            "Epoch 231/300\n",
            "839/839 [==============================] - 0s 327us/sample - loss: 0.2476 - accuracy: 0.8987 - val_loss: 1.1688 - val_accuracy: 0.4927\n",
            "Epoch 232/300\n",
            "839/839 [==============================] - 0s 353us/sample - loss: 0.2456 - accuracy: 0.8975 - val_loss: 1.1413 - val_accuracy: 0.5073\n",
            "Epoch 233/300\n",
            "839/839 [==============================] - 0s 327us/sample - loss: 0.2487 - accuracy: 0.8915 - val_loss: 1.1576 - val_accuracy: 0.4878\n",
            "Epoch 234/300\n",
            "839/839 [==============================] - 0s 319us/sample - loss: 0.2398 - accuracy: 0.8999 - val_loss: 1.1633 - val_accuracy: 0.4902\n",
            "Epoch 235/300\n",
            "839/839 [==============================] - 0s 332us/sample - loss: 0.2545 - accuracy: 0.8927 - val_loss: 1.2002 - val_accuracy: 0.5073\n",
            "Epoch 236/300\n",
            "839/839 [==============================] - 0s 302us/sample - loss: 0.2582 - accuracy: 0.8844 - val_loss: 1.1326 - val_accuracy: 0.4854\n",
            "Epoch 237/300\n",
            "839/839 [==============================] - 0s 298us/sample - loss: 0.2422 - accuracy: 0.8975 - val_loss: 1.1605 - val_accuracy: 0.4927\n",
            "Epoch 238/300\n",
            "839/839 [==============================] - 0s 333us/sample - loss: 0.2336 - accuracy: 0.8975 - val_loss: 1.1332 - val_accuracy: 0.5146\n",
            "Epoch 239/300\n",
            "839/839 [==============================] - 0s 355us/sample - loss: 0.2267 - accuracy: 0.9142 - val_loss: 1.1724 - val_accuracy: 0.5000\n",
            "Epoch 240/300\n",
            "839/839 [==============================] - 0s 319us/sample - loss: 0.2284 - accuracy: 0.9035 - val_loss: 1.1810 - val_accuracy: 0.5073\n",
            "Epoch 241/300\n",
            "839/839 [==============================] - 0s 331us/sample - loss: 0.2229 - accuracy: 0.9023 - val_loss: 1.1506 - val_accuracy: 0.4878\n",
            "Epoch 242/300\n",
            "839/839 [==============================] - 0s 331us/sample - loss: 0.2220 - accuracy: 0.9118 - val_loss: 1.1950 - val_accuracy: 0.4902\n",
            "Epoch 243/300\n",
            "839/839 [==============================] - 0s 340us/sample - loss: 0.2198 - accuracy: 0.9094 - val_loss: 1.2188 - val_accuracy: 0.5220\n",
            "Epoch 244/300\n",
            "839/839 [==============================] - 0s 298us/sample - loss: 0.2234 - accuracy: 0.9094 - val_loss: 1.1995 - val_accuracy: 0.5293\n",
            "Epoch 245/300\n",
            "839/839 [==============================] - 0s 278us/sample - loss: 0.2261 - accuracy: 0.9035 - val_loss: 1.1921 - val_accuracy: 0.4951\n",
            "Epoch 246/300\n",
            "839/839 [==============================] - 0s 293us/sample - loss: 0.2113 - accuracy: 0.9130 - val_loss: 1.2193 - val_accuracy: 0.5220\n",
            "Epoch 247/300\n",
            "839/839 [==============================] - 0s 304us/sample - loss: 0.2121 - accuracy: 0.9201 - val_loss: 1.2024 - val_accuracy: 0.5220\n",
            "Epoch 248/300\n",
            "839/839 [==============================] - 0s 291us/sample - loss: 0.2149 - accuracy: 0.9118 - val_loss: 1.2441 - val_accuracy: 0.5268\n",
            "Epoch 249/300\n",
            "839/839 [==============================] - 0s 292us/sample - loss: 0.2110 - accuracy: 0.9225 - val_loss: 1.2237 - val_accuracy: 0.5195\n",
            "Epoch 250/300\n",
            "839/839 [==============================] - 0s 287us/sample - loss: 0.2036 - accuracy: 0.9166 - val_loss: 1.2482 - val_accuracy: 0.4976\n",
            "Epoch 251/300\n",
            "839/839 [==============================] - 0s 305us/sample - loss: 0.2052 - accuracy: 0.9201 - val_loss: 1.2573 - val_accuracy: 0.5000\n",
            "Epoch 252/300\n",
            "839/839 [==============================] - 0s 328us/sample - loss: 0.2003 - accuracy: 0.9261 - val_loss: 1.2328 - val_accuracy: 0.5122\n",
            "Epoch 253/300\n",
            "839/839 [==============================] - 0s 326us/sample - loss: 0.2057 - accuracy: 0.9118 - val_loss: 1.2358 - val_accuracy: 0.5390\n",
            "Epoch 254/300\n",
            "839/839 [==============================] - 0s 319us/sample - loss: 0.2096 - accuracy: 0.9166 - val_loss: 1.2426 - val_accuracy: 0.4976\n",
            "Epoch 255/300\n",
            "839/839 [==============================] - 0s 318us/sample - loss: 0.2041 - accuracy: 0.9213 - val_loss: 1.2833 - val_accuracy: 0.5195\n",
            "Epoch 256/300\n",
            "839/839 [==============================] - 0s 315us/sample - loss: 0.2261 - accuracy: 0.9082 - val_loss: 1.2320 - val_accuracy: 0.5244\n",
            "Epoch 257/300\n",
            "839/839 [==============================] - 0s 314us/sample - loss: 0.2045 - accuracy: 0.9237 - val_loss: 1.2449 - val_accuracy: 0.5146\n",
            "Epoch 258/300\n",
            "839/839 [==============================] - 0s 328us/sample - loss: 0.2130 - accuracy: 0.9118 - val_loss: 1.2331 - val_accuracy: 0.5122\n",
            "Epoch 259/300\n",
            "839/839 [==============================] - 0s 320us/sample - loss: 0.2024 - accuracy: 0.9249 - val_loss: 1.2708 - val_accuracy: 0.5268\n",
            "Epoch 260/300\n",
            "839/839 [==============================] - 0s 332us/sample - loss: 0.2224 - accuracy: 0.9070 - val_loss: 1.2704 - val_accuracy: 0.5122\n",
            "Epoch 261/300\n",
            "839/839 [==============================] - 0s 333us/sample - loss: 0.2054 - accuracy: 0.9213 - val_loss: 1.2456 - val_accuracy: 0.5049\n",
            "Epoch 262/300\n",
            "839/839 [==============================] - 0s 318us/sample - loss: 0.1914 - accuracy: 0.9333 - val_loss: 1.2228 - val_accuracy: 0.5146\n",
            "Epoch 263/300\n",
            "839/839 [==============================] - 0s 313us/sample - loss: 0.1850 - accuracy: 0.9356 - val_loss: 1.2958 - val_accuracy: 0.5000\n",
            "Epoch 264/300\n",
            "839/839 [==============================] - 0s 294us/sample - loss: 0.1771 - accuracy: 0.9273 - val_loss: 1.2972 - val_accuracy: 0.5073\n",
            "Epoch 265/300\n",
            "839/839 [==============================] - 0s 313us/sample - loss: 0.1765 - accuracy: 0.9452 - val_loss: 1.3023 - val_accuracy: 0.5146\n",
            "Epoch 266/300\n",
            "839/839 [==============================] - 0s 301us/sample - loss: 0.1741 - accuracy: 0.9309 - val_loss: 1.2808 - val_accuracy: 0.5146\n",
            "Epoch 267/300\n",
            "839/839 [==============================] - 0s 315us/sample - loss: 0.1705 - accuracy: 0.9476 - val_loss: 1.3215 - val_accuracy: 0.5220\n",
            "Epoch 268/300\n",
            "839/839 [==============================] - 0s 339us/sample - loss: 0.1728 - accuracy: 0.9368 - val_loss: 1.3376 - val_accuracy: 0.5415\n",
            "Epoch 269/300\n",
            "839/839 [==============================] - 0s 342us/sample - loss: 0.1724 - accuracy: 0.9380 - val_loss: 1.3310 - val_accuracy: 0.4951\n",
            "Epoch 270/300\n",
            "839/839 [==============================] - 0s 325us/sample - loss: 0.1917 - accuracy: 0.9178 - val_loss: 1.3226 - val_accuracy: 0.5171\n",
            "Epoch 271/300\n",
            "839/839 [==============================] - 0s 332us/sample - loss: 0.1697 - accuracy: 0.9356 - val_loss: 1.3129 - val_accuracy: 0.5122\n",
            "Epoch 272/300\n",
            "839/839 [==============================] - 0s 338us/sample - loss: 0.1674 - accuracy: 0.9356 - val_loss: 1.3393 - val_accuracy: 0.5171\n",
            "Epoch 273/300\n",
            "839/839 [==============================] - 0s 335us/sample - loss: 0.1752 - accuracy: 0.9356 - val_loss: 1.3560 - val_accuracy: 0.5171\n",
            "Epoch 274/300\n",
            "839/839 [==============================] - 0s 297us/sample - loss: 0.1879 - accuracy: 0.9154 - val_loss: 1.2531 - val_accuracy: 0.4927\n",
            "Epoch 275/300\n",
            "839/839 [==============================] - 0s 329us/sample - loss: 0.1652 - accuracy: 0.9392 - val_loss: 1.3267 - val_accuracy: 0.5049\n",
            "Epoch 276/300\n",
            "839/839 [==============================] - 0s 319us/sample - loss: 0.1589 - accuracy: 0.9404 - val_loss: 1.3233 - val_accuracy: 0.5024\n",
            "Epoch 277/300\n",
            "839/839 [==============================] - 0s 318us/sample - loss: 0.1592 - accuracy: 0.9452 - val_loss: 1.3280 - val_accuracy: 0.5244\n",
            "Epoch 278/300\n",
            "839/839 [==============================] - 0s 320us/sample - loss: 0.1522 - accuracy: 0.9523 - val_loss: 1.3739 - val_accuracy: 0.5171\n",
            "Epoch 279/300\n",
            "839/839 [==============================] - 0s 316us/sample - loss: 0.1583 - accuracy: 0.9368 - val_loss: 1.3820 - val_accuracy: 0.5293\n",
            "Epoch 280/300\n",
            "839/839 [==============================] - 0s 335us/sample - loss: 0.1551 - accuracy: 0.9404 - val_loss: 1.3916 - val_accuracy: 0.5122\n",
            "Epoch 281/300\n",
            "839/839 [==============================] - 0s 316us/sample - loss: 0.1560 - accuracy: 0.9464 - val_loss: 1.3376 - val_accuracy: 0.5098\n",
            "Epoch 282/300\n",
            "839/839 [==============================] - 0s 305us/sample - loss: 0.1525 - accuracy: 0.9452 - val_loss: 1.3607 - val_accuracy: 0.5098\n",
            "Epoch 283/300\n",
            "839/839 [==============================] - 0s 317us/sample - loss: 0.1779 - accuracy: 0.9309 - val_loss: 1.3635 - val_accuracy: 0.5098\n",
            "Epoch 284/300\n",
            "839/839 [==============================] - 0s 323us/sample - loss: 0.2579 - accuracy: 0.8963 - val_loss: 1.4035 - val_accuracy: 0.5024\n",
            "Epoch 285/300\n",
            "839/839 [==============================] - 0s 304us/sample - loss: 0.2422 - accuracy: 0.9011 - val_loss: 1.3879 - val_accuracy: 0.5171\n",
            "Epoch 286/300\n",
            "839/839 [==============================] - 0s 332us/sample - loss: 0.2492 - accuracy: 0.9011 - val_loss: 1.3805 - val_accuracy: 0.5195\n",
            "Epoch 287/300\n",
            "839/839 [==============================] - 0s 325us/sample - loss: 0.1965 - accuracy: 0.9249 - val_loss: 1.3918 - val_accuracy: 0.5195\n",
            "Epoch 288/300\n",
            "839/839 [==============================] - 0s 315us/sample - loss: 0.1649 - accuracy: 0.9452 - val_loss: 1.3906 - val_accuracy: 0.5171\n",
            "Epoch 289/300\n",
            "839/839 [==============================] - 0s 326us/sample - loss: 0.1489 - accuracy: 0.9511 - val_loss: 1.4045 - val_accuracy: 0.5171\n",
            "Epoch 290/300\n",
            "839/839 [==============================] - 0s 323us/sample - loss: 0.1484 - accuracy: 0.9511 - val_loss: 1.4385 - val_accuracy: 0.5244\n",
            "Epoch 291/300\n",
            "839/839 [==============================] - 0s 342us/sample - loss: 0.1491 - accuracy: 0.9440 - val_loss: 1.4314 - val_accuracy: 0.5293\n",
            "Epoch 292/300\n",
            "839/839 [==============================] - 0s 310us/sample - loss: 0.1480 - accuracy: 0.9464 - val_loss: 1.4387 - val_accuracy: 0.5122\n",
            "Epoch 293/300\n",
            "839/839 [==============================] - 0s 323us/sample - loss: 0.1397 - accuracy: 0.9559 - val_loss: 1.3729 - val_accuracy: 0.5317\n",
            "Epoch 294/300\n",
            "839/839 [==============================] - 0s 307us/sample - loss: 0.1386 - accuracy: 0.9523 - val_loss: 1.4289 - val_accuracy: 0.5341\n",
            "Epoch 295/300\n",
            "839/839 [==============================] - 0s 327us/sample - loss: 0.1346 - accuracy: 0.9559 - val_loss: 1.4331 - val_accuracy: 0.5293\n",
            "Epoch 296/300\n",
            "839/839 [==============================] - 0s 321us/sample - loss: 0.1356 - accuracy: 0.9559 - val_loss: 1.4479 - val_accuracy: 0.5341\n",
            "Epoch 297/300\n",
            "839/839 [==============================] - 0s 333us/sample - loss: 0.1393 - accuracy: 0.9511 - val_loss: 1.4301 - val_accuracy: 0.5366\n",
            "Epoch 298/300\n",
            "839/839 [==============================] - 0s 316us/sample - loss: 0.1317 - accuracy: 0.9547 - val_loss: 1.4545 - val_accuracy: 0.5171\n",
            "Epoch 299/300\n",
            "839/839 [==============================] - 0s 327us/sample - loss: 0.1342 - accuracy: 0.9511 - val_loss: 1.4508 - val_accuracy: 0.5195\n",
            "Epoch 300/300\n",
            "839/839 [==============================] - 0s 321us/sample - loss: 0.1298 - accuracy: 0.9559 - val_loss: 1.4712 - val_accuracy: 0.5366\n"
          ],
          "name": "stdout"
        }
      ]
    },
    {
      "cell_type": "code",
      "metadata": {
        "id": "K7NvqWyLTNR1",
        "colab_type": "code",
        "colab": {
          "base_uri": "https://localhost:8080/",
          "height": 282
        },
        "outputId": "c5072a7e-a0ab-4c85-e38d-04f001e26178"
      },
      "source": [
        "# plot the loss\n",
        "plt.plot(r.history['loss'], label='loss')\n",
        "plt.plot(r.history['val_loss'], label='val_loss')\n",
        "plt.legend()"
      ],
      "execution_count": 39,
      "outputs": [
        {
          "output_type": "execute_result",
          "data": {
            "text/plain": [
              "<matplotlib.legend.Legend at 0x7f8d0e3c85c0>"
            ]
          },
          "metadata": {
            "tags": []
          },
          "execution_count": 39
        },
        {
          "output_type": "display_data",
          "data": {
            "image/png": "[encoded data removed]",
            "text/plain": [
              "<Figure size 432x288 with 1 Axes>"
            ]
          },
          "metadata": {
            "tags": []
          }
        }
      ]
    },
    {
      "cell_type": "code",
      "metadata": {
        "id": "qP0HV39IUJcO",
        "colab_type": "code",
        "colab": {
          "base_uri": "https://localhost:8080/",
          "height": 265
        },
        "outputId": "f84df0cc-c96d-42f7-fe71-78a95be1c6a8"
      },
      "source": [
        "#plot accuracy per iteration\n",
        "plt.plot(r.history['accuracy'], label='accuracy')\n",
        "plt.plot(r.history['val_accuracy'], label='val_accuracy')\n",
        "plt.legend()\n",
        "plt.show()"
      ],
      "execution_count": 40,
      "outputs": [
        {
          "output_type": "display_data",
          "data": {
            "image/png": "[encoded data removed]",
            "text/plain": [
              "<Figure size 432x288 with 1 Axes>"
            ]
          },
          "metadata": {
            "tags": []
          }
        }
      ]
    },
    {
      "cell_type": "code",
      "metadata": {
        "id": "jW-LIeAdUh2b",
        "colab_type": "code",
        "colab": {}
      },
      "source": [
        ""
      ],
      "execution_count": 0,
      "outputs": []
    }
  ]
}