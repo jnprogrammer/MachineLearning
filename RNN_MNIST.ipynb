{
  "nbformat": 4,
  "nbformat_minor": 0,
  "metadata": {
    "colab": {
      "name": "RNN MNIST.ipynb",
      "provenance": [],
      "collapsed_sections": [],
      "authorship_tag": "ABX9TyO9Q27KFIeuWBdzgLI2sDOq",
      "include_colab_link": true
    },
    "kernelspec": {
      "name": "python3",
      "display_name": "Python 3"
    }
  },
  "cells": [
    {
      "cell_type": "markdown",
      "metadata": {
        "id": "view-in-github",
        "colab_type": "text"
      },
      "source": [
        "<a href=\"https://colab.research.google.com/github/jnprogrammer/MachineLearning/blob/master/RNN_MNIST.ipynb\" target=\"_parent\"><img src=\"https://colab.research.google.com/assets/colab-badge.svg\" alt=\"Open In Colab\"/></a>"
      ]
    },
    {
      "cell_type": "code",
      "metadata": {
        "id": "a6Wv4BceGgNM",
        "colab_type": "code",
        "colab": {
          "base_uri": "https://localhost:8080/",
          "height": 34
        },
        "outputId": "e33c3870-2d01-47f7-9b45-d32cb3a18420"
      },
      "source": [
        "!pip install -q tensorflow-gpu==2.0.0-beta1\n",
        "import tensorflow as tf\n",
        "print(tf.__version__)"
      ],
      "execution_count": 2,
      "outputs": [
        {
          "output_type": "stream",
          "text": [
            "2.0.0-beta1\n"
          ],
          "name": "stdout"
        }
      ]
    },
    {
      "cell_type": "code",
      "metadata": {
        "id": "U5bVh7WyGsZT",
        "colab_type": "code",
        "colab": {}
      },
      "source": [
        "from tensorflow.keras.layers import Input, SimpleRNN, GRU, LSTM, Dense, Flatten\n",
        "from tensorflow.keras.models import Model\n",
        "from tensorflow.keras.optimizers import SGD, Adam\n",
        "\n",
        "import numpy as np\n",
        "import pandas as pd\n",
        "import matplotlib.pyplot as plt\n"
      ],
      "execution_count": 0,
      "outputs": []
    },
    {
      "cell_type": "code",
      "metadata": {
        "id": "HLMW7kijHzge",
        "colab_type": "code",
        "colab": {
          "base_uri": "https://localhost:8080/",
          "height": 34
        },
        "outputId": "cea3aaad-237f-49bc-ffeb-884f3491af9b"
      },
      "source": [
        "mnist = tf.keras.datasets.mnist\n",
        "\n",
        "(x_train, y_train), (x_test, y_test) = mnist.load_data()\n",
        "x_train, x_test = x_train / 255.0, x_test / 255.0\n",
        "print(\"x_train.shape:\", x_train.shape)"
      ],
      "execution_count": 5,
      "outputs": [
        {
          "output_type": "stream",
          "text": [
            "x_train.shape: (60000, 28, 28)\n"
          ],
          "name": "stdout"
        }
      ]
    },
    {
      "cell_type": "code",
      "metadata": {
        "id": "f7cc32IwISHn",
        "colab_type": "code",
        "colab": {}
      },
      "source": [
        "# build the model\n",
        "i = Input(shape=x_train[0].shape)\n",
        "x = LSTM(28)(i)\n",
        "x = Dense(10, activation='softmax')(x)\n",
        "\n",
        "model = Model(i, x)"
      ],
      "execution_count": 0,
      "outputs": []
    },
    {
      "cell_type": "code",
      "metadata": {
        "id": "cLlMuzpnItCI",
        "colab_type": "code",
        "colab": {
          "base_uri": "https://localhost:8080/",
          "height": 445
        },
        "outputId": "69cb16a2-17a3-4aee-8cb7-5fd50bcf912a"
      },
      "source": [
        "model.compile(optimizer='adam',\n",
        "    loss='sparse_categorical_crossentropy',\n",
        "    metrics=['accuracy'])\n",
        "r = model.fit(x_train, y_train, validation_data=(x_test, y_test), epochs=10)"
      ],
      "execution_count": 9,
      "outputs": [
        {
          "output_type": "stream",
          "text": [
            "WARNING:tensorflow:From /usr/local/lib/python3.6/dist-packages/tensorflow/python/ops/math_grad.py:1250: add_dispatch_support.<locals>.wrapper (from tensorflow.python.ops.array_ops) is deprecated and will be removed in a future version.\n",
            "Instructions for updating:\n",
            "Use tf.where in 2.0, which has the same broadcast rule as np.where\n",
            "Train on 60000 samples, validate on 10000 samples\n",
            "Epoch 1/10\n",
            "60000/60000 [==============================] - 31s 517us/sample - loss: 0.6963 - accuracy: 0.7774 - val_loss: 0.3378 - val_accuracy: 0.8999\n",
            "Epoch 2/10\n",
            "60000/60000 [==============================] - 31s 512us/sample - loss: 0.2507 - accuracy: 0.9277 - val_loss: 0.1719 - val_accuracy: 0.9495\n",
            "Epoch 3/10\n",
            "60000/60000 [==============================] - 31s 517us/sample - loss: 0.1689 - accuracy: 0.9509 - val_loss: 0.1646 - val_accuracy: 0.9536\n",
            "Epoch 4/10\n",
            "60000/60000 [==============================] - 31s 513us/sample - loss: 0.1306 - accuracy: 0.9611 - val_loss: 0.1141 - val_accuracy: 0.9673\n",
            "Epoch 5/10\n",
            "60000/60000 [==============================] - 31s 510us/sample - loss: 0.1086 - accuracy: 0.9678 - val_loss: 0.0968 - val_accuracy: 0.9725\n",
            "Epoch 6/10\n",
            "60000/60000 [==============================] - 31s 520us/sample - loss: 0.0938 - accuracy: 0.9728 - val_loss: 0.0987 - val_accuracy: 0.9719\n",
            "Epoch 7/10\n",
            "60000/60000 [==============================] - 30s 508us/sample - loss: 0.0843 - accuracy: 0.9756 - val_loss: 0.0912 - val_accuracy: 0.9712\n",
            "Epoch 8/10\n",
            "60000/60000 [==============================] - 34s 572us/sample - loss: 0.0766 - accuracy: 0.9775 - val_loss: 0.0896 - val_accuracy: 0.9738\n",
            "Epoch 9/10\n",
            "60000/60000 [==============================] - 31s 514us/sample - loss: 0.0704 - accuracy: 0.9791 - val_loss: 0.0912 - val_accuracy: 0.9729\n",
            "Epoch 10/10\n",
            "60000/60000 [==============================] - 31s 514us/sample - loss: 0.0644 - accuracy: 0.9814 - val_loss: 0.0700 - val_accuracy: 0.9790\n"
          ],
          "name": "stdout"
        }
      ]
    },
    {
      "cell_type": "code",
      "metadata": {
        "id": "KIaUEg1dKmSW",
        "colab_type": "code",
        "colab": {
          "base_uri": "https://localhost:8080/",
          "height": 282
        },
        "outputId": "3e796511-7ca2-427a-b469-f9fe504df896"
      },
      "source": [
        "#loss per iteration\n",
        "\n",
        "import matplotlib.pyplot as plt\n",
        "\n",
        "plt.plot(r.history['loss'], label='loss')\n",
        "plt.plot(r.history['val_loss'], label='val_loss')\n",
        "plt.legend()"
      ],
      "execution_count": 12,
      "outputs": [
        {
          "output_type": "execute_result",
          "data": {
            "text/plain": [
              "<matplotlib.legend.Legend at 0x7fa3c35bb898>"
            ]
          },
          "metadata": {
            "tags": []
          },
          "execution_count": 12
        },
        {
          "output_type": "display_data",
          "data": {
            "image/png": "[encoded data removed]",
            "text/plain": [
              "<Figure size 432x288 with 1 Axes>"
            ]
          },
          "metadata": {
            "tags": []
          }
        }
      ]
    },
    {
      "cell_type": "code",
      "metadata": {
        "id": "sWFi1HJFNESo",
        "colab_type": "code",
        "colab": {
          "base_uri": "https://localhost:8080/",
          "height": 282
        },
        "outputId": "566063f0-6d27-4095-a533-7f7e5a33b2ca"
      },
      "source": [
        "# Plot accuracy per iteration\n",
        "\n",
        "plt.plot(r.history['accuracy'], label='acc')\n",
        "plt.plot(r.history['val_accuracy'], label='val_acc')\n",
        "plt.legend()"
      ],
      "execution_count": 13,
      "outputs": [
        {
          "output_type": "execute_result",
          "data": {
            "text/plain": [
              "<matplotlib.legend.Legend at 0x7fa3c30b40b8>"
            ]
          },
          "metadata": {
            "tags": []
          },
          "execution_count": 13
        },
        {
          "output_type": "display_data",
          "data": {
            "image/png": "[encoded data removed]",
            "text/plain": [
              "<Figure size 432x288 with 1 Axes>"
            ]
          },
          "metadata": {
            "tags": []
          }
        }
      ]
    },
    {
      "cell_type": "code",
      "metadata": {
        "id": "2s3hBuL2NugH",
        "colab_type": "code",
        "colab": {
          "base_uri": "https://localhost:8080/",
          "height": 498
        },
        "outputId": "b96587ce-dec7-4dd3-ed0a-f8e8d9289bbf"
      },
      "source": [
        "# Plot confusion matrix\n",
        "from sklearn.metrics import confusion_matrix\n",
        "import numpy as np\n",
        "import itertools\n",
        "\n",
        "def plot_confusion_matrix(cm, classes,\n",
        "                          normalize=False,\n",
        "                          title='Confusion_matrix',\n",
        "                          cmap=plt.cm.Blues):\n",
        "  \"\"\"\n",
        "  This function prints and plots the confusion matrix,\n",
        "  Normalization cna be applided by setting normalize=True\n",
        "  \"\"\"\n",
        "\n",
        "  if normalize:\n",
        "    cm = cm.astype('float') / cm.sum(axit=i)[:, np.newaxis]\n",
        "    print(\"Normalized confusion matrix\")\n",
        "  else:\n",
        "    print(\"Confusion matrix, without normalization\")\n",
        "  print(cm)\n",
        "\n",
        "  plt.imshow(cm, interpolation='nearest', cmap=cmap)\n",
        "  plt.title(title)\n",
        "  plt.colorbar()\n",
        "  tick_marks = np.arange(len(classes))\n",
        "  plt.xticks(tick_marks, classes, rotation=45)\n",
        "  plt.yticks(tick_marks, classes)\n",
        "\n",
        "  fmt = '.2f' if normalize else 'd'\n",
        "  thresh = cm.max() / 2.\n",
        "  for i, j in itertools.product(range(cm.shape[0]), range(cm.shape[1])):\n",
        "    plt.text(j, i, format(cm[i, j], fmt),\n",
        "             horizontalalignment = \"center\",\n",
        "             color=\"white\" if cm[i,j] > thresh else \"black\")\n",
        "  plt.tight_layout()\n",
        "  plt.ylabel('True_label')\n",
        "  plt.xlabel('Predicted label')\n",
        "  plt.show()\n",
        "\n",
        "p_test = model.predict(x_test).argmax(axis=1)\n",
        "cm = confusion_matrix(y_test, p_test)\n",
        "plot_confusion_matrix(cm, list(range(10)))"
      ],
      "execution_count": 17,
      "outputs": [
        {
          "output_type": "stream",
          "text": [
            "Confusion matrix, without normalization\n",
            "[[ 971    0    0    0    1    0    4    1    2    1]\n",
            " [   0 1125    4    1    1    0    1    0    3    0]\n",
            " [   5    0 1013    2    0    0    3    4    4    1]\n",
            " [   0    0    6  986    0    7    0    4    2    5]\n",
            " [   1    0    0    1  953    1    5    4    1   16]\n",
            " [   4    0    0    7    1  874    1    1    2    2]\n",
            " [   5    3    1    0    4    5  937    0    3    0]\n",
            " [   1    2   10    4    1    0    0 1005    2    3]\n",
            " [   7    0    4    3    2   10    1    3  942    2]\n",
            " [   3    1    2    3    4    3    3    3    3  984]]\n"
          ],
          "name": "stdout"
        },
        {
          "output_type": "display_data",
          "data": {
            "image/png": "[encoded data removed]",
            "text/plain": [
              "<Figure size 432x288 with 2 Axes>"
            ]
          },
          "metadata": {
            "tags": []
          }
        }
      ]
    },
    {
      "cell_type": "code",
      "metadata": {
        "id": "jmm_wgg3SnJV",
        "colab_type": "code",
        "colab": {
          "base_uri": "https://localhost:8080/",
          "height": 281
        },
        "outputId": "14eae856-9927-4dc2-9486-475bf0fbc453"
      },
      "source": [
        "# Show some misclassified examples\n",
        "misclassified_idx = np.where(p_test != y_test)[0]\n",
        "i = np.random.choice(misclassified_idx)\n",
        "plt.imshow(x_test[i], cmap='gray')\n",
        "plt.title(\"True label: %s Predicted: %s\" % (y_test[i], p_test[i]));"
      ],
      "execution_count": 20,
      "outputs": [
        {
          "output_type": "display_data",
          "data": {
            "image/png": "[encoded data removed]",
            "text/plain": [
              "<Figure size 432x288 with 1 Axes>"
            ]
          },
          "metadata": {
            "tags": []
          }
        }
      ]
    },
    {
      "cell_type": "code",
      "metadata": {
        "id": "5v71lz8bUUVT",
        "colab_type": "code",
        "colab": {}
      },
      "source": [
        ""
      ],
      "execution_count": 0,
      "outputs": []
    }
  ]
}